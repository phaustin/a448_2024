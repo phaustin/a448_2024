{
 "cells": [
  {
   "cell_type": "markdown",
   "id": "15c8bf0b",
   "metadata": {},
   "source": [
    "# merging modis granules\n",
    "\n",
    "This notebook takes geotiffs written with NASA's sinusoidal crs and resamples them onto a common\n",
    "grid with a UTM zone 10 crs [epsg 3157 ](https://spatialreference.org/ref/epsg/3157)\n",
    "\n",
    "We use [rioxarray](https://corteva.github.io/rioxarray/stable/) to get the crs information and [pyresample](https://pyresample.readthedocs.io/en/latest/concepts/index.html) to do the resampling.  The [pyproj](https://pyproj4.github.io/pyproj/stable/index.html) package is used to transform the lon/lat bounding box\n",
    "into UTM coodinates for the area_def."
   ]
  },
  {
   "cell_type": "code",
   "execution_count": 1,
   "id": "a44393ba",
   "metadata": {},
   "outputs": [],
   "source": [
    "import rioxarray\n",
    "import xarray\n",
    "from pathlib import Path\n",
    "import cartopy.crs as ccrs\n",
    "import cartopy\n",
    "from matplotlib import pyplot as plt\n",
    "import numpy as np\n",
    "import pyproj\n",
    "import pyresample\n",
    "from pyproj import Transformer, transform\n",
    "from pyresample.geometry import AreaDefinition"
   ]
  },
  {
   "cell_type": "markdown",
   "id": "bb49561a",
   "metadata": {},
   "source": [
    "## open the images using rioxarray\n",
    "\n",
    "The default nasa projection is a [custom sinusoidal grid](https://pro.arcgis.com/en/pro-app/3.1/help/mapping/properties/sinusoidal.htm#:~:text=Sinusoidal%20is%20a%20pseudocylindric%20projection,central%20meridian%20and%20equally%20spaced.)\n",
    "\n",
    "use rioxarray to get the coordinate reference system for the modis images"
   ]
  },
  {
   "cell_type": "code",
   "execution_count": 2,
   "id": "6522adb8-0b8a-4ace-8f9f-f39ed52cd94b",
   "metadata": {},
   "outputs": [],
   "source": [
    "#images = (Path.home() / \"repos/a448_2024/data\").glob(\"*MYD*tif\")\n",
    "image_dir = Path.home() / (\"Dropbox/phil_files/teaching/a448_2024/\"\n",
    "                         \"propposals/hannah/MODIS_images/MODIS_Images\")\n",
    "year_dir = image_dir / \"2021_MODIS_images\"\n",
    "images = list(year_dir.glob(\"*.tif\"))\n",
    "image1, image2 = images\n",
    "rio_image1 = rioxarray.open_rasterio(image1, mask_and_scale = True)\n",
    "rio_image2 = rioxarray.open_rasterio(image2, mask_and_scale = True)\n",
    "wkt_text1 = rio_image1.spatial_ref.crs_wkt"
   ]
  },
  {
   "cell_type": "markdown",
   "id": "1fd0eccd-0be8-45f5-bc9a-5c26a052f3fa",
   "metadata": {},
   "source": [
    "Here is the sinusoidal crs in wkt format"
   ]
  },
  {
   "cell_type": "code",
   "execution_count": 3,
   "id": "fb033702-6712-47a6-b451-ecb9996fded0",
   "metadata": {},
   "outputs": [
    {
     "data": {
      "text/html": [
       "<div><svg style=\"position: absolute; width: 0; height: 0; overflow: hidden\">\n",
       "<defs>\n",
       "<symbol id=\"icon-database\" viewBox=\"0 0 32 32\">\n",
       "<path d=\"M16 0c-8.837 0-16 2.239-16 5v4c0 2.761 7.163 5 16 5s16-2.239 16-5v-4c0-2.761-7.163-5-16-5z\"></path>\n",
       "<path d=\"M16 17c-8.837 0-16-2.239-16-5v6c0 2.761 7.163 5 16 5s16-2.239 16-5v-6c0 2.761-7.163 5-16 5z\"></path>\n",
       "<path d=\"M16 26c-8.837 0-16-2.239-16-5v6c0 2.761 7.163 5 16 5s16-2.239 16-5v-6c0 2.761-7.163 5-16 5z\"></path>\n",
       "</symbol>\n",
       "<symbol id=\"icon-file-text2\" viewBox=\"0 0 32 32\">\n",
       "<path d=\"M28.681 7.159c-0.694-0.947-1.662-2.053-2.724-3.116s-2.169-2.030-3.116-2.724c-1.612-1.182-2.393-1.319-2.841-1.319h-15.5c-1.378 0-2.5 1.121-2.5 2.5v27c0 1.378 1.122 2.5 2.5 2.5h23c1.378 0 2.5-1.122 2.5-2.5v-19.5c0-0.448-0.137-1.23-1.319-2.841zM24.543 5.457c0.959 0.959 1.712 1.825 2.268 2.543h-4.811v-4.811c0.718 0.556 1.584 1.309 2.543 2.268zM28 29.5c0 0.271-0.229 0.5-0.5 0.5h-23c-0.271 0-0.5-0.229-0.5-0.5v-27c0-0.271 0.229-0.5 0.5-0.5 0 0 15.499-0 15.5 0v7c0 0.552 0.448 1 1 1h7v19.5z\"></path>\n",
       "<path d=\"M23 26h-14c-0.552 0-1-0.448-1-1s0.448-1 1-1h14c0.552 0 1 0.448 1 1s-0.448 1-1 1z\"></path>\n",
       "<path d=\"M23 22h-14c-0.552 0-1-0.448-1-1s0.448-1 1-1h14c0.552 0 1 0.448 1 1s-0.448 1-1 1z\"></path>\n",
       "<path d=\"M23 18h-14c-0.552 0-1-0.448-1-1s0.448-1 1-1h14c0.552 0 1 0.448 1 1s-0.448 1-1 1z\"></path>\n",
       "</symbol>\n",
       "</defs>\n",
       "</svg>\n",
       "<style>/* CSS stylesheet for displaying xarray objects in jupyterlab.\n",
       " *\n",
       " */\n",
       "\n",
       ":root {\n",
       "  --xr-font-color0: var(--jp-content-font-color0, rgba(0, 0, 0, 1));\n",
       "  --xr-font-color2: var(--jp-content-font-color2, rgba(0, 0, 0, 0.54));\n",
       "  --xr-font-color3: var(--jp-content-font-color3, rgba(0, 0, 0, 0.38));\n",
       "  --xr-border-color: var(--jp-border-color2, #e0e0e0);\n",
       "  --xr-disabled-color: var(--jp-layout-color3, #bdbdbd);\n",
       "  --xr-background-color: var(--jp-layout-color0, white);\n",
       "  --xr-background-color-row-even: var(--jp-layout-color1, white);\n",
       "  --xr-background-color-row-odd: var(--jp-layout-color2, #eeeeee);\n",
       "}\n",
       "\n",
       "html[theme=dark],\n",
       "body[data-theme=dark],\n",
       "body.vscode-dark {\n",
       "  --xr-font-color0: rgba(255, 255, 255, 1);\n",
       "  --xr-font-color2: rgba(255, 255, 255, 0.54);\n",
       "  --xr-font-color3: rgba(255, 255, 255, 0.38);\n",
       "  --xr-border-color: #1F1F1F;\n",
       "  --xr-disabled-color: #515151;\n",
       "  --xr-background-color: #111111;\n",
       "  --xr-background-color-row-even: #111111;\n",
       "  --xr-background-color-row-odd: #313131;\n",
       "}\n",
       "\n",
       ".xr-wrap {\n",
       "  display: block !important;\n",
       "  min-width: 300px;\n",
       "  max-width: 700px;\n",
       "}\n",
       "\n",
       ".xr-text-repr-fallback {\n",
       "  /* fallback to plain text repr when CSS is not injected (untrusted notebook) */\n",
       "  display: none;\n",
       "}\n",
       "\n",
       ".xr-header {\n",
       "  padding-top: 6px;\n",
       "  padding-bottom: 6px;\n",
       "  margin-bottom: 4px;\n",
       "  border-bottom: solid 1px var(--xr-border-color);\n",
       "}\n",
       "\n",
       ".xr-header > div,\n",
       ".xr-header > ul {\n",
       "  display: inline;\n",
       "  margin-top: 0;\n",
       "  margin-bottom: 0;\n",
       "}\n",
       "\n",
       ".xr-obj-type,\n",
       ".xr-array-name {\n",
       "  margin-left: 2px;\n",
       "  margin-right: 10px;\n",
       "}\n",
       "\n",
       ".xr-obj-type {\n",
       "  color: var(--xr-font-color2);\n",
       "}\n",
       "\n",
       ".xr-sections {\n",
       "  padding-left: 0 !important;\n",
       "  display: grid;\n",
       "  grid-template-columns: 150px auto auto 1fr 20px 20px;\n",
       "}\n",
       "\n",
       ".xr-section-item {\n",
       "  display: contents;\n",
       "}\n",
       "\n",
       ".xr-section-item input {\n",
       "  display: none;\n",
       "}\n",
       "\n",
       ".xr-section-item input + label {\n",
       "  color: var(--xr-disabled-color);\n",
       "}\n",
       "\n",
       ".xr-section-item input:enabled + label {\n",
       "  cursor: pointer;\n",
       "  color: var(--xr-font-color2);\n",
       "}\n",
       "\n",
       ".xr-section-item input:enabled + label:hover {\n",
       "  color: var(--xr-font-color0);\n",
       "}\n",
       "\n",
       ".xr-section-summary {\n",
       "  grid-column: 1;\n",
       "  color: var(--xr-font-color2);\n",
       "  font-weight: 500;\n",
       "}\n",
       "\n",
       ".xr-section-summary > span {\n",
       "  display: inline-block;\n",
       "  padding-left: 0.5em;\n",
       "}\n",
       "\n",
       ".xr-section-summary-in:disabled + label {\n",
       "  color: var(--xr-font-color2);\n",
       "}\n",
       "\n",
       ".xr-section-summary-in + label:before {\n",
       "  display: inline-block;\n",
       "  content: '►';\n",
       "  font-size: 11px;\n",
       "  width: 15px;\n",
       "  text-align: center;\n",
       "}\n",
       "\n",
       ".xr-section-summary-in:disabled + label:before {\n",
       "  color: var(--xr-disabled-color);\n",
       "}\n",
       "\n",
       ".xr-section-summary-in:checked + label:before {\n",
       "  content: '▼';\n",
       "}\n",
       "\n",
       ".xr-section-summary-in:checked + label > span {\n",
       "  display: none;\n",
       "}\n",
       "\n",
       ".xr-section-summary,\n",
       ".xr-section-inline-details {\n",
       "  padding-top: 4px;\n",
       "  padding-bottom: 4px;\n",
       "}\n",
       "\n",
       ".xr-section-inline-details {\n",
       "  grid-column: 2 / -1;\n",
       "}\n",
       "\n",
       ".xr-section-details {\n",
       "  display: none;\n",
       "  grid-column: 1 / -1;\n",
       "  margin-bottom: 5px;\n",
       "}\n",
       "\n",
       ".xr-section-summary-in:checked ~ .xr-section-details {\n",
       "  display: contents;\n",
       "}\n",
       "\n",
       ".xr-array-wrap {\n",
       "  grid-column: 1 / -1;\n",
       "  display: grid;\n",
       "  grid-template-columns: 20px auto;\n",
       "}\n",
       "\n",
       ".xr-array-wrap > label {\n",
       "  grid-column: 1;\n",
       "  vertical-align: top;\n",
       "}\n",
       "\n",
       ".xr-preview {\n",
       "  color: var(--xr-font-color3);\n",
       "}\n",
       "\n",
       ".xr-array-preview,\n",
       ".xr-array-data {\n",
       "  padding: 0 5px !important;\n",
       "  grid-column: 2;\n",
       "}\n",
       "\n",
       ".xr-array-data,\n",
       ".xr-array-in:checked ~ .xr-array-preview {\n",
       "  display: none;\n",
       "}\n",
       "\n",
       ".xr-array-in:checked ~ .xr-array-data,\n",
       ".xr-array-preview {\n",
       "  display: inline-block;\n",
       "}\n",
       "\n",
       ".xr-dim-list {\n",
       "  display: inline-block !important;\n",
       "  list-style: none;\n",
       "  padding: 0 !important;\n",
       "  margin: 0;\n",
       "}\n",
       "\n",
       ".xr-dim-list li {\n",
       "  display: inline-block;\n",
       "  padding: 0;\n",
       "  margin: 0;\n",
       "}\n",
       "\n",
       ".xr-dim-list:before {\n",
       "  content: '(';\n",
       "}\n",
       "\n",
       ".xr-dim-list:after {\n",
       "  content: ')';\n",
       "}\n",
       "\n",
       ".xr-dim-list li:not(:last-child):after {\n",
       "  content: ',';\n",
       "  padding-right: 5px;\n",
       "}\n",
       "\n",
       ".xr-has-index {\n",
       "  font-weight: bold;\n",
       "}\n",
       "\n",
       ".xr-var-list,\n",
       ".xr-var-item {\n",
       "  display: contents;\n",
       "}\n",
       "\n",
       ".xr-var-item > div,\n",
       ".xr-var-item label,\n",
       ".xr-var-item > .xr-var-name span {\n",
       "  background-color: var(--xr-background-color-row-even);\n",
       "  margin-bottom: 0;\n",
       "}\n",
       "\n",
       ".xr-var-item > .xr-var-name:hover span {\n",
       "  padding-right: 5px;\n",
       "}\n",
       "\n",
       ".xr-var-list > li:nth-child(odd) > div,\n",
       ".xr-var-list > li:nth-child(odd) > label,\n",
       ".xr-var-list > li:nth-child(odd) > .xr-var-name span {\n",
       "  background-color: var(--xr-background-color-row-odd);\n",
       "}\n",
       "\n",
       ".xr-var-name {\n",
       "  grid-column: 1;\n",
       "}\n",
       "\n",
       ".xr-var-dims {\n",
       "  grid-column: 2;\n",
       "}\n",
       "\n",
       ".xr-var-dtype {\n",
       "  grid-column: 3;\n",
       "  text-align: right;\n",
       "  color: var(--xr-font-color2);\n",
       "}\n",
       "\n",
       ".xr-var-preview {\n",
       "  grid-column: 4;\n",
       "}\n",
       "\n",
       ".xr-index-preview {\n",
       "  grid-column: 2 / 5;\n",
       "  color: var(--xr-font-color2);\n",
       "}\n",
       "\n",
       ".xr-var-name,\n",
       ".xr-var-dims,\n",
       ".xr-var-dtype,\n",
       ".xr-preview,\n",
       ".xr-attrs dt {\n",
       "  white-space: nowrap;\n",
       "  overflow: hidden;\n",
       "  text-overflow: ellipsis;\n",
       "  padding-right: 10px;\n",
       "}\n",
       "\n",
       ".xr-var-name:hover,\n",
       ".xr-var-dims:hover,\n",
       ".xr-var-dtype:hover,\n",
       ".xr-attrs dt:hover {\n",
       "  overflow: visible;\n",
       "  width: auto;\n",
       "  z-index: 1;\n",
       "}\n",
       "\n",
       ".xr-var-attrs,\n",
       ".xr-var-data,\n",
       ".xr-index-data {\n",
       "  display: none;\n",
       "  background-color: var(--xr-background-color) !important;\n",
       "  padding-bottom: 5px !important;\n",
       "}\n",
       "\n",
       ".xr-var-attrs-in:checked ~ .xr-var-attrs,\n",
       ".xr-var-data-in:checked ~ .xr-var-data,\n",
       ".xr-index-data-in:checked ~ .xr-index-data {\n",
       "  display: block;\n",
       "}\n",
       "\n",
       ".xr-var-data > table {\n",
       "  float: right;\n",
       "}\n",
       "\n",
       ".xr-var-name span,\n",
       ".xr-var-data,\n",
       ".xr-index-name div,\n",
       ".xr-index-data,\n",
       ".xr-attrs {\n",
       "  padding-left: 25px !important;\n",
       "}\n",
       "\n",
       ".xr-attrs,\n",
       ".xr-var-attrs,\n",
       ".xr-var-data,\n",
       ".xr-index-data {\n",
       "  grid-column: 1 / -1;\n",
       "}\n",
       "\n",
       "dl.xr-attrs {\n",
       "  padding: 0;\n",
       "  margin: 0;\n",
       "  display: grid;\n",
       "  grid-template-columns: 125px auto;\n",
       "}\n",
       "\n",
       ".xr-attrs dt,\n",
       ".xr-attrs dd {\n",
       "  padding: 0;\n",
       "  margin: 0;\n",
       "  float: left;\n",
       "  padding-right: 10px;\n",
       "  width: auto;\n",
       "}\n",
       "\n",
       ".xr-attrs dt {\n",
       "  font-weight: normal;\n",
       "  grid-column: 1;\n",
       "}\n",
       "\n",
       ".xr-attrs dt:hover span {\n",
       "  display: inline-block;\n",
       "  background: var(--xr-background-color);\n",
       "  padding-right: 10px;\n",
       "}\n",
       "\n",
       ".xr-attrs dd {\n",
       "  grid-column: 2;\n",
       "  white-space: pre-wrap;\n",
       "  word-break: break-all;\n",
       "}\n",
       "\n",
       ".xr-icon-database,\n",
       ".xr-icon-file-text2,\n",
       ".xr-no-icon {\n",
       "  display: inline-block;\n",
       "  vertical-align: middle;\n",
       "  width: 1em;\n",
       "  height: 1.5em !important;\n",
       "  stroke-width: 0;\n",
       "  stroke: currentColor;\n",
       "  fill: currentColor;\n",
       "}\n",
       "</style><pre class='xr-text-repr-fallback'>&lt;xarray.DataArray (band: 1, y: 1200, x: 1200)&gt;\n",
       "[1440000 values with dtype=float32]\n",
       "Coordinates:\n",
       "  * band         (band) int64 1\n",
       "  * x            (x) float64 -1.001e+07 -1.001e+07 ... -8.897e+06 -8.896e+06\n",
       "  * y            (y) float64 5.559e+06 5.558e+06 ... 4.449e+06 4.448e+06\n",
       "    spatial_ref  int64 0\n",
       "Attributes: (12/122)\n",
       "    add_offset_err:                     0\n",
       "    ALGORITHMPACKAGEACCEPTANCEDATE:     102004\n",
       "    ALGORITHMPACKAGEMATURITYCODE:       Normal\n",
       "    ALGORITHMPACKAGENAME:               MOD_PR11A\n",
       "    ALGORITHMPACKAGEVERSION:            6\n",
       "    AREA_OR_POINT:                      Area\n",
       "    ...                                 ...\n",
       "    TileID:                             51009004\n",
       "    units:                              K\n",
       "    valid_range:                        7500, 65535\n",
       "    VERSIONID:                          61\n",
       "    VERTICALTILENUMBER:                 4\n",
       "    WESTBOUNDINGCOORDINATE:             -140.021612487585</pre><div class='xr-wrap' style='display:none'><div class='xr-header'><div class='xr-obj-type'>xarray.DataArray</div><div class='xr-array-name'></div><ul class='xr-dim-list'><li><span class='xr-has-index'>band</span>: 1</li><li><span class='xr-has-index'>y</span>: 1200</li><li><span class='xr-has-index'>x</span>: 1200</li></ul></div><ul class='xr-sections'><li class='xr-section-item'><div class='xr-array-wrap'><input id='section-5fac442a-c146-4184-9cd9-80c2aad4954c' class='xr-array-in' type='checkbox' checked><label for='section-5fac442a-c146-4184-9cd9-80c2aad4954c' title='Show/hide data repr'><svg class='icon xr-icon-database'><use xlink:href='#icon-database'></use></svg></label><div class='xr-array-preview xr-preview'><span>...</span></div><div class='xr-array-data'><pre>[1440000 values with dtype=float32]</pre></div></div></li><li class='xr-section-item'><input id='section-4e2014f3-59b7-4716-bf9d-a3d3afbea5e8' class='xr-section-summary-in' type='checkbox'  checked><label for='section-4e2014f3-59b7-4716-bf9d-a3d3afbea5e8' class='xr-section-summary' >Coordinates: <span>(4)</span></label><div class='xr-section-inline-details'></div><div class='xr-section-details'><ul class='xr-var-list'><li class='xr-var-item'><div class='xr-var-name'><span class='xr-has-index'>band</span></div><div class='xr-var-dims'>(band)</div><div class='xr-var-dtype'>int64</div><div class='xr-var-preview xr-preview'>1</div><input id='attrs-b7543112-d065-4cc3-9ffd-dae486feffa6' class='xr-var-attrs-in' type='checkbox' disabled><label for='attrs-b7543112-d065-4cc3-9ffd-dae486feffa6' title='Show/Hide attributes'><svg class='icon xr-icon-file-text2'><use xlink:href='#icon-file-text2'></use></svg></label><input id='data-82718c17-0b90-40db-8c55-13f631e3e108' class='xr-var-data-in' type='checkbox'><label for='data-82718c17-0b90-40db-8c55-13f631e3e108' title='Show/Hide data repr'><svg class='icon xr-icon-database'><use xlink:href='#icon-database'></use></svg></label><div class='xr-var-attrs'><dl class='xr-attrs'></dl></div><div class='xr-var-data'><pre>array([1])</pre></div></li><li class='xr-var-item'><div class='xr-var-name'><span class='xr-has-index'>x</span></div><div class='xr-var-dims'>(x)</div><div class='xr-var-dtype'>float64</div><div class='xr-var-preview xr-preview'>-1.001e+07 ... -8.896e+06</div><input id='attrs-32161702-3ceb-42e5-9540-075ab8df487c' class='xr-var-attrs-in' type='checkbox' disabled><label for='attrs-32161702-3ceb-42e5-9540-075ab8df487c' title='Show/Hide attributes'><svg class='icon xr-icon-file-text2'><use xlink:href='#icon-file-text2'></use></svg></label><input id='data-f767100c-b014-4730-8b31-477888d9c6f9' class='xr-var-data-in' type='checkbox'><label for='data-f767100c-b014-4730-8b31-477888d9c6f9' title='Show/Hide data repr'><svg class='icon xr-icon-database'><use xlink:href='#icon-database'></use></svg></label><div class='xr-var-attrs'><dl class='xr-attrs'></dl></div><div class='xr-var-data'><pre>array([-10007091.365182, -10006164.739749, -10005238.114316, ...,\n",
       "        -8897920.721715,  -8896994.096282,  -8896067.470849])</pre></div></li><li class='xr-var-item'><div class='xr-var-name'><span class='xr-has-index'>y</span></div><div class='xr-var-dims'>(y)</div><div class='xr-var-dtype'>float64</div><div class='xr-var-preview xr-preview'>5.559e+06 5.558e+06 ... 4.448e+06</div><input id='attrs-1bfd147c-bcaf-4b43-8656-457467e8ae64' class='xr-var-attrs-in' type='checkbox' disabled><label for='attrs-1bfd147c-bcaf-4b43-8656-457467e8ae64' title='Show/Hide attributes'><svg class='icon xr-icon-file-text2'><use xlink:href='#icon-file-text2'></use></svg></label><input id='data-6e00a4e7-e302-4f04-8bc5-da7aecb6534e' class='xr-var-data-in' type='checkbox'><label for='data-6e00a4e7-e302-4f04-8bc5-da7aecb6534e' title='Show/Hide data repr'><svg class='icon xr-icon-database'><use xlink:href='#icon-database'></use></svg></label><div class='xr-var-attrs'><dl class='xr-attrs'></dl></div><div class='xr-var-data'><pre>array([5559289.286116, 5558362.660683, 5557436.03525 , ..., 4450118.642649,\n",
       "       4449192.017216, 4448265.391783])</pre></div></li><li class='xr-var-item'><div class='xr-var-name'><span>spatial_ref</span></div><div class='xr-var-dims'>()</div><div class='xr-var-dtype'>int64</div><div class='xr-var-preview xr-preview'>0</div><input id='attrs-9666419a-551a-4dd2-8592-b53e28f9b37f' class='xr-var-attrs-in' type='checkbox' ><label for='attrs-9666419a-551a-4dd2-8592-b53e28f9b37f' title='Show/Hide attributes'><svg class='icon xr-icon-file-text2'><use xlink:href='#icon-file-text2'></use></svg></label><input id='data-bcad5a8f-2403-4c8d-b54f-6c2de514e425' class='xr-var-data-in' type='checkbox'><label for='data-bcad5a8f-2403-4c8d-b54f-6c2de514e425' title='Show/Hide data repr'><svg class='icon xr-icon-database'><use xlink:href='#icon-database'></use></svg></label><div class='xr-var-attrs'><dl class='xr-attrs'><dt><span>crs_wkt :</span></dt><dd>PROJCS[&quot;unnamed&quot;,GEOGCS[&quot;Unknown datum based upon the custom spheroid&quot;,DATUM[&quot;Not specified (based on custom spheroid)&quot;,SPHEROID[&quot;Custom spheroid&quot;,6371007.181,0]],PRIMEM[&quot;Greenwich&quot;,0],UNIT[&quot;degree&quot;,0.0174532925199433,AUTHORITY[&quot;EPSG&quot;,&quot;9122&quot;]]],PROJECTION[&quot;Sinusoidal&quot;],PARAMETER[&quot;longitude_of_center&quot;,0],PARAMETER[&quot;false_easting&quot;,0],PARAMETER[&quot;false_northing&quot;,0],UNIT[&quot;metre&quot;,1,AUTHORITY[&quot;EPSG&quot;,&quot;9001&quot;]],AXIS[&quot;Easting&quot;,EAST],AXIS[&quot;Northing&quot;,NORTH]]</dd><dt><span>semi_major_axis :</span></dt><dd>6371007.181</dd><dt><span>semi_minor_axis :</span></dt><dd>6371007.181</dd><dt><span>inverse_flattening :</span></dt><dd>0.0</dd><dt><span>reference_ellipsoid_name :</span></dt><dd>Custom spheroid</dd><dt><span>longitude_of_prime_meridian :</span></dt><dd>0.0</dd><dt><span>prime_meridian_name :</span></dt><dd>Greenwich</dd><dt><span>geographic_crs_name :</span></dt><dd>Unknown datum based upon the custom spheroid</dd><dt><span>horizontal_datum_name :</span></dt><dd>Not specified (based on custom spheroid)</dd><dt><span>projected_crs_name :</span></dt><dd>unnamed</dd><dt><span>grid_mapping_name :</span></dt><dd>sinusoidal</dd><dt><span>longitude_of_projection_origin :</span></dt><dd>0.0</dd><dt><span>false_easting :</span></dt><dd>0.0</dd><dt><span>false_northing :</span></dt><dd>0.0</dd><dt><span>spatial_ref :</span></dt><dd>PROJCS[&quot;unnamed&quot;,GEOGCS[&quot;Unknown datum based upon the custom spheroid&quot;,DATUM[&quot;Not specified (based on custom spheroid)&quot;,SPHEROID[&quot;Custom spheroid&quot;,6371007.181,0]],PRIMEM[&quot;Greenwich&quot;,0],UNIT[&quot;degree&quot;,0.0174532925199433,AUTHORITY[&quot;EPSG&quot;,&quot;9122&quot;]]],PROJECTION[&quot;Sinusoidal&quot;],PARAMETER[&quot;longitude_of_center&quot;,0],PARAMETER[&quot;false_easting&quot;,0],PARAMETER[&quot;false_northing&quot;,0],UNIT[&quot;metre&quot;,1,AUTHORITY[&quot;EPSG&quot;,&quot;9001&quot;]],AXIS[&quot;Easting&quot;,EAST],AXIS[&quot;Northing&quot;,NORTH]]</dd><dt><span>GeoTransform :</span></dt><dd>-10007554.677899 926.6254331391661 0.0 5559752.598833 0.0 -926.625433139167</dd></dl></div><div class='xr-var-data'><pre>array(0)</pre></div></li></ul></div></li><li class='xr-section-item'><input id='section-7b91fb30-6045-4b27-8177-29c7e3301983' class='xr-section-summary-in' type='checkbox'  ><label for='section-7b91fb30-6045-4b27-8177-29c7e3301983' class='xr-section-summary' >Indexes: <span>(3)</span></label><div class='xr-section-inline-details'></div><div class='xr-section-details'><ul class='xr-var-list'><li class='xr-var-item'><div class='xr-index-name'><div>band</div></div><div class='xr-index-preview'>PandasIndex</div><div></div><input id='index-16dee459-f53c-4f9b-9afb-d1bb61d3e714' class='xr-index-data-in' type='checkbox'/><label for='index-16dee459-f53c-4f9b-9afb-d1bb61d3e714' title='Show/Hide index repr'><svg class='icon xr-icon-database'><use xlink:href='#icon-database'></use></svg></label><div class='xr-index-data'><pre>PandasIndex(Index([1], dtype=&#x27;int64&#x27;, name=&#x27;band&#x27;))</pre></div></li><li class='xr-var-item'><div class='xr-index-name'><div>x</div></div><div class='xr-index-preview'>PandasIndex</div><div></div><input id='index-a7413a64-c956-4d12-ab6f-07d6aed248e7' class='xr-index-data-in' type='checkbox'/><label for='index-a7413a64-c956-4d12-ab6f-07d6aed248e7' title='Show/Hide index repr'><svg class='icon xr-icon-database'><use xlink:href='#icon-database'></use></svg></label><div class='xr-index-data'><pre>PandasIndex(Index([ -10007091.36518243,  -10006164.73974929,  -10005238.11431615,\n",
       "       -10004311.488883013, -10003384.863449873, -10002458.238016734,\n",
       "       -10001531.612583594, -10000604.987150455,  -9999678.361717315,\n",
       "        -9998751.736284178,\n",
       "       ...\n",
       "        -8904407.099746821,  -8903480.474313682,  -8902553.848880544,\n",
       "        -8901627.223447405,  -8900700.598014265,  -8899773.972581126,\n",
       "        -8898847.347147986,  -8897920.721714847,   -8896994.09628171,\n",
       "         -8896067.47084857],\n",
       "      dtype=&#x27;float64&#x27;, name=&#x27;x&#x27;, length=1200))</pre></div></li><li class='xr-var-item'><div class='xr-index-name'><div>y</div></div><div class='xr-index-preview'>PandasIndex</div><div></div><input id='index-c569b687-1541-4f7e-b73d-780c32dddcc8' class='xr-index-data-in' type='checkbox'/><label for='index-c569b687-1541-4f7e-b73d-780c32dddcc8' title='Show/Hide index repr'><svg class='icon xr-icon-database'><use xlink:href='#icon-database'></use></svg></label><div class='xr-index-data'><pre>PandasIndex(Index([5559289.286116431, 5558362.660683291, 5557436.035250152,\n",
       "       5556509.409817013, 5555582.784383873, 5554656.158950735,\n",
       "       5553729.533517595, 5552802.908084457, 5551876.282651317,\n",
       "       5550949.657218178,\n",
       "       ...\n",
       "       4456605.020680822, 4455678.395247683, 4454751.769814543,\n",
       "       4453825.144381404, 4452898.518948265, 4451971.893515126,\n",
       "       4451045.268081987, 4450118.642648848, 4449192.017215708,\n",
       "        4448265.39178257],\n",
       "      dtype=&#x27;float64&#x27;, name=&#x27;y&#x27;, length=1200))</pre></div></li></ul></div></li><li class='xr-section-item'><input id='section-efa338fe-e1d6-4477-99e1-6c9700ead208' class='xr-section-summary-in' type='checkbox'  ><label for='section-efa338fe-e1d6-4477-99e1-6c9700ead208' class='xr-section-summary' >Attributes: <span>(122)</span></label><div class='xr-section-inline-details'></div><div class='xr-section-details'><dl class='xr-attrs'><dt><span>add_offset_err :</span></dt><dd>0</dd><dt><span>ALGORITHMPACKAGEACCEPTANCEDATE :</span></dt><dd>102004</dd><dt><span>ALGORITHMPACKAGEMATURITYCODE :</span></dt><dd>Normal</dd><dt><span>ALGORITHMPACKAGENAME :</span></dt><dd>MOD_PR11A</dd><dt><span>ALGORITHMPACKAGEVERSION :</span></dt><dd>6</dd><dt><span>AREA_OR_POINT :</span></dt><dd>Area</dd><dt><span>ASSOCIATEDINSTRUMENTSHORTNAME.1 :</span></dt><dd>MODIS</dd><dt><span>ASSOCIATEDPLATFORMSHORTNAME.1 :</span></dt><dd>Aqua</dd><dt><span>ASSOCIATEDSENSORSHORTNAME.1 :</span></dt><dd>MODIS</dd><dt><span>AUTOMATICQUALITYFLAG.1 :</span></dt><dd>Passed</dd><dt><span>AUTOMATICQUALITYFLAGEXPLANATION.1 :</span></dt><dd>No automatic quality assessment is performed in the PGE.</dd><dt><span>calibrated_nt :</span></dt><dd>5</dd><dt><span>CLOUD_CONTAMINATED_LST_SCREENED :</span></dt><dd>YES</dd><dt><span>DAYNIGHTFLAG :</span></dt><dd>Both</dd><dt><span>DESCRREVISION :</span></dt><dd>6.1</dd><dt><span>EASTBOUNDINGCOORDINATE :</span></dt><dd>-104.450780056325</dd><dt><span>EXCLUSIONGRINGFLAG.1 :</span></dt><dd>N</dd><dt><span>GRINGPOINTLATITUDE.1 :</span></dt><dd>49.9958333333333, 49.9958333333333, 40.0041666666667, 40.0041666666667</dd><dt><span>GRINGPOINTLONGITUDE.1 :</span></dt><dd>-140.021612487585, -124.464400150083, -104.450780056325, -117.506424438298</dd><dt><span>GRINGPOINTSEQUENCENO.1 :</span></dt><dd>1, 2, 3, 4</dd><dt><span>HDFEOSVersion :</span></dt><dd>HDFEOS_V2.19</dd><dt><span>HORIZONTALTILENUMBER :</span></dt><dd>9</dd><dt><span>identifier_product_doi :</span></dt><dd>10.5067/MODIS/MYD11A1.061</dd><dt><span>identifier_product_doi_authority :</span></dt><dd>http://dx.doi.org</dd><dt><span>INPUTGRANULEPOINTER.1 :</span></dt><dd>MYD03.A2021180.2110.061.2021181152921.hdf</dd><dt><span>INPUTGRANULEPOINTER.10 :</span></dt><dd>MYD03.A2021180.0955.061.2021181150620.hdf</dd><dt><span>INPUTGRANULEPOINTER.11 :</span></dt><dd>MYD021KM.A2021180.0955.061.2021181152520.hdf</dd><dt><span>INPUTGRANULEPOINTER.12 :</span></dt><dd>MYD35_L2.A2021180.0955.061.2021181152908.hdf</dd><dt><span>INPUTGRANULEPOINTER.13 :</span></dt><dd>MYD10_L2.A2021180.0955.061.2021181154435.hdf</dd><dt><span>INPUTGRANULEPOINTER.14 :</span></dt><dd>MYD07_L2.A2021180.0955.061.2021181152933.hdf</dd><dt><span>INPUTGRANULEPOINTER.15 :</span></dt><dd>MYD03.A2021180.1000.061.2021181151013.hdf</dd><dt><span>INPUTGRANULEPOINTER.16 :</span></dt><dd>MYD021KM.A2021180.1000.061.2021181152509.hdf</dd><dt><span>INPUTGRANULEPOINTER.17 :</span></dt><dd>MYD35_L2.A2021180.1000.061.2021181152908.hdf</dd><dt><span>INPUTGRANULEPOINTER.18 :</span></dt><dd>MYD07_L2.A2021180.1000.061.2021181152929.hdf</dd><dt><span>INPUTGRANULEPOINTER.19 :</span></dt><dd>MYD03.A2021180.1135.061.2021181151337.hdf</dd><dt><span>INPUTGRANULEPOINTER.2 :</span></dt><dd>MYD021KM.A2021180.2110.061.2021181154930.hdf</dd><dt><span>INPUTGRANULEPOINTER.20 :</span></dt><dd>MYD021KM.A2021180.1135.061.2021181152551.hdf</dd><dt><span>INPUTGRANULEPOINTER.21 :</span></dt><dd>MYD35_L2.A2021180.1135.061.2021181153016.hdf</dd><dt><span>INPUTGRANULEPOINTER.22 :</span></dt><dd>MYD07_L2.A2021180.1135.061.2021181153032.hdf</dd><dt><span>INPUTGRANULEPOINTER.23 :</span></dt><dd>MYD03.A2021180.1925.061.2021181151138.hdf</dd><dt><span>INPUTGRANULEPOINTER.24 :</span></dt><dd>MYD021KM.A2021180.1925.061.2021181152714.hdf</dd><dt><span>INPUTGRANULEPOINTER.25 :</span></dt><dd>MYD35_L2.A2021180.1925.061.2021181153054.hdf</dd><dt><span>INPUTGRANULEPOINTER.26 :</span></dt><dd>MYD10_L2.A2021180.1925.061.2021181155255.hdf</dd><dt><span>INPUTGRANULEPOINTER.27 :</span></dt><dd>MYD07_L2.A2021180.1925.061.2021181153111.hdf</dd><dt><span>INPUTGRANULEPOINTER.28 :</span></dt><dd>MYD03.A2021180.1930.061.2021181151420.hdf</dd><dt><span>INPUTGRANULEPOINTER.29 :</span></dt><dd>MYD021KM.A2021180.1930.061.2021181153144.hdf</dd><dt><span>INPUTGRANULEPOINTER.3 :</span></dt><dd>MYD35_L2.A2021180.2110.061.2021181155134.hdf</dd><dt><span>INPUTGRANULEPOINTER.30 :</span></dt><dd>MYD35_L2.A2021180.1930.061.2021181153430.hdf</dd><dt><span>INPUTGRANULEPOINTER.31 :</span></dt><dd>MYD10_L2.A2021180.1930.061.2021181155025.hdf</dd><dt><span>INPUTGRANULEPOINTER.32 :</span></dt><dd>MYD07_L2.A2021180.1930.061.2021181153458.hdf</dd><dt><span>INPUTGRANULEPOINTER.33 :</span></dt><dd>MYD03.A2021180.2105.061.2021181152800.hdf</dd><dt><span>INPUTGRANULEPOINTER.34 :</span></dt><dd>MYD021KM.A2021180.2105.061.2021181154913.hdf</dd><dt><span>INPUTGRANULEPOINTER.35 :</span></dt><dd>MYD35_L2.A2021180.2105.061.2021181155122.hdf</dd><dt><span>INPUTGRANULEPOINTER.36 :</span></dt><dd>MYD10_L2.A2021180.2105.061.2021181160939.hdf</dd><dt><span>INPUTGRANULEPOINTER.37 :</span></dt><dd>MYD07_L2.A2021180.2105.061.2021181155148.hdf</dd><dt><span>INPUTGRANULEPOINTER.38 :</span></dt><dd>MYD03.A2021180.2245.061.2021181152950.hdf</dd><dt><span>INPUTGRANULEPOINTER.39 :</span></dt><dd>MYD021KM.A2021180.2245.061.2021181154658.hdf</dd><dt><span>INPUTGRANULEPOINTER.4 :</span></dt><dd>MYD10_L2.A2021180.2110.061.2021181160831.hdf</dd><dt><span>INPUTGRANULEPOINTER.40 :</span></dt><dd>MYD35_L2.A2021180.2245.061.2021181154935.hdf</dd><dt><span>INPUTGRANULEPOINTER.41 :</span></dt><dd>MYD10_L2.A2021180.2245.061.2021181160800.hdf</dd><dt><span>INPUTGRANULEPOINTER.42 :</span></dt><dd>MYD07_L2.A2021180.2245.061.2021181154951.hdf</dd><dt><span>INPUTGRANULEPOINTER.5 :</span></dt><dd>MYD07_L2.A2021180.2110.061.2021181155203.hdf</dd><dt><span>INPUTGRANULEPOINTER.6 :</span></dt><dd>MYD03.A2021180.0820.061.2021180170503.hdf</dd><dt><span>INPUTGRANULEPOINTER.7 :</span></dt><dd>MYD021KM.A2021180.0820.061.2021180193813.hdf</dd><dt><span>INPUTGRANULEPOINTER.8 :</span></dt><dd>MYD35_L2.A2021180.0820.061.2021180193919.hdf</dd><dt><span>INPUTGRANULEPOINTER.9 :</span></dt><dd>MYD07_L2.A2021180.0820.061.2021180193938.hdf</dd><dt><span>INPUTPOINTER :</span></dt><dd>MYD03.A2021180.2110.061.2021181152921.hdf, MYD021KM.A2021180.2110.061.2021181154930.hdf, MYD35_L2.A2021180.2110.061.2021181155134.hdf, MYD10_L2.A2021180.2110.061.2021181160831.hdf, MYD07_L2.A2021180.2110.061.2021181155203.hdf, MYD03.A2021180.0820.061.2021180170503.hdf, MYD021KM.A2021180.0820.061.2021180193813.hdf, MYD35_L2.A2021180.0820.061.2021180193919.hdf, MYD07_L2.A2021180.0820.061.2021180193938.hdf, MYD03.A2021180.0955.061.2021181150620.hdf, MYD021KM.A2021180.0955.061.2021181152520.hdf, MYD35_L2.A2021180.0955.061.2021181152908.hdf, MYD10_L2.A2021180.0955.061.2021181154435.hdf, MYD07_L2.A2021180.0955.061.2021181152933.hdf, MYD03.A2021180.1000.061.2021181151013.hdf, MYD021KM.A2021180.1000.061.2021181152509.hdf, MYD35_L2.A2021180.1000.061.2021181152908.hdf, MYD07_L2.A2021180.1000.061.2021181152929.hdf, MYD03.A2021180.1135.061.2021181151337.hdf, MYD021KM.A2021180.1135.061.2021181152551.hdf, MYD35_L2.A2021180.1135.061.2021181153016.hdf, MYD07_L2.A2021180.1135.061.2021181153032.hdf, MYD03.A2021180.1925.061.2021181151138.hdf, MYD021KM.A2021180.1925.061.2021181152714.hdf, MYD35_L2.A2021180.1925.061.2021181153054.hdf, MYD10_L2.A2021180.1925.061.2021181155255.hdf, MYD07_L2.A2021180.1925.061.2021181153111.hdf, MYD03.A2021180.1930.061.2021181151420.hdf, MYD021KM.A2021180.1930.061.2021181153144.hdf, MYD35_L2.A2021180.1930.061.2021181153430.hdf, MYD10_L2.A2021180.1930.061.2021181155025.hdf, MYD07_L2.A2021180.1930.061.2021181153458.hdf, MYD03.A2021180.2105.061.2021181152800.hdf, MYD021KM.A2021180.2105.061.2021181154913.hdf, MYD35_L2.A2021180.2105.061.2021181155122.hdf, MYD10_L2.A2021180.2105.061.2021181160939.hdf, MYD07_L2.A2021180.2105.061.2021181155148.hdf, MYD03.A2021180.2245.061.2021181152950.hdf, MYD021KM.A2021180.2245.061.2021181154658.hdf, MYD35_L2.A2021180.2245.061.2021181154935.hdf, MYD10_L2.A2021180.2245.061.2021181160800.hdf, MYD07_L2.A2021180.2245.061.2021181154951.hdf</dd><dt><span>INPUTTILEPOINTER.1 :</span></dt><dd>MCDLC1KM.A2010001.h09v04.051.2013340004809.hdf</dd><dt><span>INPUTTILEPOINTER.2 :</span></dt><dd>MCD43A1.A2021171.h09v04.061.2021180060635.hdf</dd><dt><span>INPUTTILEPOINTER.3 :</span></dt><dd>MYD11A1.61.A2021180.h09v04.hdf</dd><dt><span>INPUTTILEPOINTER.4 :</span></dt><dd>MYD11B1.61.A2021180.h09v04.hdf</dd><dt><span>INPUTTILEPOINTER.5 :</span></dt><dd>MYD11UPD.A2-2.61.update_for_lst.h09v04.hdf</dd><dt><span>INSTRUMENTNAME :</span></dt><dd>Moderate-Resolution Imaging SpectroRadiometer</dd><dt><span>LOCALGRANULEID :</span></dt><dd>MYD11A1.A2021180.h09v04.061.2021182224548.hdf</dd><dt><span>LOCALINPUTGRANULEID :</span></dt><dd>2110,0820,0955,1000,1135,1925,1930,2105,2245</dd><dt><span>LOCALVERSIONID :</span></dt><dd>6.4.4AS</dd><dt><span>LONGNAME :</span></dt><dd>MODIS/Aqua Land Surface Temperature/Emissivity Daily L3 Global 1km SIN Grid</dd><dt><span>long_name :</span></dt><dd>Daily daytime 1km grid Land-surface Temperature</dd><dt><span>LOOKUPTABLEPOINTER.1 :</span></dt><dd>band_emis.h</dd><dt><span>LOOKUPTABLEPOINTER.2 :</span></dt><dd>lst_coef.h</dd><dt><span>LOOKUPTABLETYPE.1 :</span></dt><dd>Land-cover based band emissivity database</dd><dt><span>LOOKUPTABLETYPE.2 :</span></dt><dd>the generalized split-window LST coefficients</dd><dt><span>LST :</span></dt><dd>LST data * scale_factor</dd><dt><span>NORTHBOUNDINGCOORDINATE :</span></dt><dd>49.9958333333333</dd><dt><span>Number Type :</span></dt><dd>uint16</dd><dt><span>N_GRAN_POINTERS :</span></dt><dd>42</dd><dt><span>PARAMETERNAME.1 :</span></dt><dd>MOD 1KM L3 LST</dd><dt><span>PGEVERSION :</span></dt><dd>6.5.17</dd><dt><span>PROCESSINGCENTER :</span></dt><dd>MODAPS</dd><dt><span>PROCESSINGDATETIME :</span></dt><dd>2021-07-01T15:45:13.000Z</dd><dt><span>PROCESSINGENVIRONMENT :</span></dt><dd>Linux minion7573 3.10.0-1160.31.1.el7.x86_64 #1 SMP Thu Jun 10 13:32:12 UTC 2021 x86_64 x86_64 x86_64 GNU/Linux</dd><dt><span>PRODUCTIONDATETIME :</span></dt><dd>2021-07-01T22:45:48.000Z</dd><dt><span>QAFRACTIONGOODQUALITY :</span></dt><dd>0.5751917</dd><dt><span>QAFRACTIONNOTPRODUCEDCLOUD :</span></dt><dd>0.043201</dd><dt><span>QAFRACTIONNOTPRODUCEDOTHER :</span></dt><dd>0.3191319</dd><dt><span>QAFRACTIONOTHERQUALITY :</span></dt><dd>0.0624753</dd><dt><span>QAPERCENTCLOUDCOVER.1 :</span></dt><dd>4</dd><dt><span>QAPERCENTGOODQUALITY :</span></dt><dd>58</dd><dt><span>QAPERCENTINTERPOLATEDDATA.1 :</span></dt><dd>0</dd><dt><span>QAPERCENTMISSINGDATA.1 :</span></dt><dd>0</dd><dt><span>QAPERCENTNOTPRODUCEDCLOUD :</span></dt><dd>4</dd><dt><span>QAPERCENTNOTPRODUCEDOTHER :</span></dt><dd>32</dd><dt><span>QAPERCENTOTHERQUALITY :</span></dt><dd>6</dd><dt><span>QAPERCENTOUTOFBOUNDSDATA.1 :</span></dt><dd>0</dd><dt><span>RANGEBEGINNINGDATE :</span></dt><dd>2021-06-29</dd><dt><span>RANGEBEGINNINGTIME :</span></dt><dd>00:00:00</dd><dt><span>RANGEENDINGDATE :</span></dt><dd>2021-06-29</dd><dt><span>RANGEENDINGTIME :</span></dt><dd>23:59:59</dd><dt><span>REPROCESSINGACTUAL :</span></dt><dd>reprocessed</dd><dt><span>REPROCESSINGPLANNED :</span></dt><dd>further update is anticipated</dd><dt><span>scale_factor_err :</span></dt><dd>0</dd><dt><span>SCIENCEQUALITYFLAG.1 :</span></dt><dd>Not Investigated</dd><dt><span>SCIENCEQUALITYFLAGEXPLANATION.1 :</span></dt><dd>See http://landweb.nascom.nasa.gov/cgi-bin/QA_WWW/qaFlagPage.cgi?sat=aqua for the product Science Quality status.</dd><dt><span>SHORTNAME :</span></dt><dd>MYD11A1</dd><dt><span>SOUTHBOUNDINGCOORDINATE :</span></dt><dd>40.0041666666667</dd><dt><span>SPSOPARAMETERS :</span></dt><dd>2484 and 3323</dd><dt><span>TileID :</span></dt><dd>51009004</dd><dt><span>units :</span></dt><dd>K</dd><dt><span>valid_range :</span></dt><dd>7500, 65535</dd><dt><span>VERSIONID :</span></dt><dd>61</dd><dt><span>VERTICALTILENUMBER :</span></dt><dd>4</dd><dt><span>WESTBOUNDINGCOORDINATE :</span></dt><dd>-140.021612487585</dd></dl></div></li></ul></div></div>"
      ],
      "text/plain": [
       "<xarray.DataArray (band: 1, y: 1200, x: 1200)>\n",
       "[1440000 values with dtype=float32]\n",
       "Coordinates:\n",
       "  * band         (band) int64 1\n",
       "  * x            (x) float64 -1.001e+07 -1.001e+07 ... -8.897e+06 -8.896e+06\n",
       "  * y            (y) float64 5.559e+06 5.558e+06 ... 4.449e+06 4.448e+06\n",
       "    spatial_ref  int64 0\n",
       "Attributes: (12/122)\n",
       "    add_offset_err:                     0\n",
       "    ALGORITHMPACKAGEACCEPTANCEDATE:     102004\n",
       "    ALGORITHMPACKAGEMATURITYCODE:       Normal\n",
       "    ALGORITHMPACKAGENAME:               MOD_PR11A\n",
       "    ALGORITHMPACKAGEVERSION:            6\n",
       "    AREA_OR_POINT:                      Area\n",
       "    ...                                 ...\n",
       "    TileID:                             51009004\n",
       "    units:                              K\n",
       "    valid_range:                        7500, 65535\n",
       "    VERSIONID:                          61\n",
       "    VERTICALTILENUMBER:                 4\n",
       "    WESTBOUNDINGCOORDINATE:             -140.021612487585"
      ]
     },
     "execution_count": 3,
     "metadata": {},
     "output_type": "execute_result"
    }
   ],
   "source": [
    "rio_image1"
   ]
  },
  {
   "cell_type": "code",
   "execution_count": 4,
   "id": "0da31e35-5475-45ef-84dd-8d325ff9b5f6",
   "metadata": {},
   "outputs": [
    {
     "data": {
      "text/plain": [
       "'PROJCS[\"unnamed\",GEOGCS[\"Unknown datum based upon the custom spheroid\",DATUM[\"Not specified (based on custom spheroid)\",SPHEROID[\"Custom spheroid\",6371007.181,0]],PRIMEM[\"Greenwich\",0],UNIT[\"degree\",0.0174532925199433,AUTHORITY[\"EPSG\",\"9122\"]]],PROJECTION[\"Sinusoidal\"],PARAMETER[\"longitude_of_center\",0],PARAMETER[\"false_easting\",0],PARAMETER[\"false_northing\",0],UNIT[\"metre\",1,AUTHORITY[\"EPSG\",\"9001\"]],AXIS[\"Easting\",EAST],AXIS[\"Northing\",NORTH]]'"
      ]
     },
     "execution_count": 4,
     "metadata": {},
     "output_type": "execute_result"
    }
   ],
   "source": [
    "wkt_text1"
   ]
  },
  {
   "cell_type": "markdown",
   "id": "d43ea300-ba87-4dbf-bc5e-164cc981b552",
   "metadata": {},
   "source": [
    "## Create three area_defs for pyresample\n",
    "\n",
    "We need area_defs for the two modis tif files, and we need to create a third area_def that we are going to resample those two images into.\n",
    "\n",
    "\n",
    "\n",
    "\n",
    "\n",
    "### make geodetic and utm zone 10N pyproj crs objects\n",
    "\n",
    "We need to transform the lon/lat bounding box from geodetic coords (WGS84)  into utm coordinates (32610)\n",
    "\n",
    "Start by creating two pyproj crs objects"
   ]
  },
  {
   "cell_type": "code",
   "execution_count": 5,
   "id": "0bf4709f-3a26-4bb7-bd25-0f31bbae3ac0",
   "metadata": {},
   "outputs": [
    {
     "data": {
      "text/plain": [
       "<Projected CRS: EPSG:32610>\n",
       "Name: WGS 84 / UTM zone 10N\n",
       "Axis Info [cartesian]:\n",
       "- E[east]: Easting (metre)\n",
       "- N[north]: Northing (metre)\n",
       "Area of Use:\n",
       "- name: Between 126°W and 120°W, northern hemisphere between equator and 84°N, onshore and offshore. Canada - British Columbia (BC); Northwest Territories (NWT); Nunavut; Yukon. United States (USA) - Alaska (AK).\n",
       "- bounds: (-126.0, 0.0, -120.0, 84.0)\n",
       "Coordinate Operation:\n",
       "- name: UTM zone 10N\n",
       "- method: Transverse Mercator\n",
       "Datum: World Geodetic System 1984 ensemble\n",
       "- Ellipsoid: WGS 84\n",
       "- Prime Meridian: Greenwich"
      ]
     },
     "execution_count": 5,
     "metadata": {},
     "output_type": "execute_result"
    }
   ],
   "source": [
    "crs_geodetic = pyproj.CRS(\"WGS84\")\n",
    "crs_zone10N = pyproj.CRS(32610)\n",
    "crs_zone10N"
   ]
  },
  {
   "cell_type": "code",
   "execution_count": 6,
   "id": "d02bf048-ac96-44b4-9307-15392741c47c",
   "metadata": {},
   "outputs": [
    {
     "data": {
      "text/plain": [
       "<Geographic 2D CRS: EPSG:4326>\n",
       "Name: WGS 84\n",
       "Axis Info [ellipsoidal]:\n",
       "- Lat[north]: Geodetic latitude (degree)\n",
       "- Lon[east]: Geodetic longitude (degree)\n",
       "Area of Use:\n",
       "- name: World.\n",
       "- bounds: (-180.0, -90.0, 180.0, 90.0)\n",
       "Datum: World Geodetic System 1984 ensemble\n",
       "- Ellipsoid: WGS 84\n",
       "- Prime Meridian: Greenwich"
      ]
     },
     "execution_count": 6,
     "metadata": {},
     "output_type": "execute_result"
    }
   ],
   "source": [
    "crs_geodetic"
   ]
  },
  {
   "cell_type": "markdown",
   "id": "4b5e1950-cbbf-4070-bfc6-5fed21280938",
   "metadata": {},
   "source": [
    "### Get the region to resample into\n",
    "\n",
    "We need the lower left and upper right corners of the region of interest in UTM coordinates\n",
    "lat/lon is geodetic (epsg:4326)  and utm zone 10N is epsg:32610\n",
    "\n",
    "**note that epsg:4326 is lat,lon  and epsg:32610 is x, y -- i.e. flipped**"
   ]
  },
  {
   "cell_type": "code",
   "execution_count": 7,
   "id": "664a24d9-8a03-45ce-a36c-0d4d694843e1",
   "metadata": {},
   "outputs": [
    {
     "name": "stdout",
     "output_type": "stream",
     "text": [
      "(ll_x,ur_x,ll_y,ur_y)=(480982.95259714004, 536314.2562688388, 5427488.345747969, 5466485.02426247)\n"
     ]
    }
   ],
   "source": [
    "ll_lat, ll_lon = (49, -123.26)\n",
    "ur_lat, ur_lon = (49.35, -122.50)\n",
    "transformer = Transformer.from_crs(4326, 32610)\n",
    "ll_x, ll_y = transformer.transform(ll_lat,ll_lon)\n",
    "ur_x, ur_y = transformer.transform(ur_lat,ur_lon)\n",
    "print(f\"{(ll_x,ur_x,ll_y,ur_y)=}\")\n",
    "area_extent = (ll_x,ur_x,ll_y,ur_y)"
   ]
  },
  {
   "cell_type": "markdown",
   "id": "e275cbcd-5df4-4f2c-bac4-160fb546ef6d",
   "metadata": {},
   "source": [
    "### get the pyresample area_defs from the images\n",
    "\n",
    "Also get the crs (same for both images)"
   ]
  },
  {
   "cell_type": "code",
   "execution_count": 8,
   "id": "e36656c0-7972-40f8-aa6c-a37f0ecce3eb",
   "metadata": {},
   "outputs": [
    {
     "data": {
      "text/plain": [
       "Area ID: None\n",
       "Description: None\n",
       "Projection: {'R': '6371007.181', 'lon_0': '0', 'no_defs': 'None', 'proj': 'sinu', 'type': 'crs', 'units': 'm', 'x_0': '0', 'y_0': '0'}\n",
       "Number of columns: 1200\n",
       "Number of rows: 1200\n",
       "Area extent: (-10007554.6779, 4447802.0791, -8895604.1581, 5559752.5988)"
      ]
     },
     "execution_count": 8,
     "metadata": {},
     "output_type": "execute_result"
    }
   ],
   "source": [
    "crs_nasa = pyproj.crs.CRS(wkt_text1)\n",
    "rio1_def = pyresample.utils.rasterio.get_area_def_from_raster(str(images[0]),projection=crs_nasa)\n",
    "rio2_def = pyresample.utils.rasterio.get_area_def_from_raster(str(images[1]),projection=crs_nasa)\n",
    "rio1_def"
   ]
  },
  {
   "cell_type": "code",
   "execution_count": 9,
   "id": "5d5b95ee-248e-4d39-928d-6e6c08997ec0",
   "metadata": {},
   "outputs": [
    {
     "data": {
      "text/plain": [
       "Area ID: None\n",
       "Description: None\n",
       "Projection: {'R': '6371007.181', 'lon_0': '0', 'no_defs': 'None', 'proj': 'sinu', 'type': 'crs', 'units': 'm', 'x_0': '0', 'y_0': '0'}\n",
       "Number of columns: 1200\n",
       "Number of rows: 1200\n",
       "Area extent: (-8895604.1581, 4447802.0791, -7783653.6384, 5559752.5988)"
      ]
     },
     "execution_count": 9,
     "metadata": {},
     "output_type": "execute_result"
    }
   ],
   "source": [
    "rio2_def"
   ]
  },
  {
   "cell_type": "markdown",
   "id": "1fd093ae-9b9d-4376-8b0e-85159099f5dd",
   "metadata": {},
   "source": [
    "### Construct the pyresample area_def for the bounding box\n",
    "\n",
    "We need:\n",
    "\n",
    "- area_id: ID of area\n",
    "- description: Description\n",
    "- proj_id: ID of projection (being deprecated)\n",
    "- projection: Proj4 parameters as a dict or string\n",
    "- width: Number of grid columns\n",
    "- height: Number of grid rows\n",
    "- area_extent: (lower_left_x, lower_left_y, upper_right_x, upper_right_y)\n",
    "\n",
    "\n",
    "We want our area_extent to have these corners, need to project to utm zone 10 coords"
   ]
  },
  {
   "cell_type": "markdown",
   "id": "6529ba8e-befb-4414-8bc4-62ded7bd7969",
   "metadata": {},
   "source": [
    "### Get the extent in UTM Zone10N coords"
   ]
  },
  {
   "cell_type": "markdown",
   "id": "410917ff-06b2-4599-8551-1b71105e4141",
   "metadata": {},
   "source": [
    "### set the rest of the values"
   ]
  },
  {
   "cell_type": "code",
   "execution_count": 10,
   "id": "c6ca2438-0c79-4bc0-8d24-818564d3e8c1",
   "metadata": {},
   "outputs": [
    {
     "name": "stderr",
     "output_type": "stream",
     "text": [
      "/Users/phil/mini310/envs/a405/lib/python3.11/site-packages/pyproj/crs/crs.py:1293: UserWarning: You will likely lose important projection information when converting to a PROJ string from another format. See: https://proj.org/faq.html#what-is-the-best-format-for-describing-coordinate-reference-systems\n",
      "  proj = self._crs.to_proj4(version=version)\n"
     ]
    }
   ],
   "source": [
    "area_id = \"vancouver\"\n",
    "projection = crs_zone10N.to_dict()\n",
    "proj_id = \"UTM Zone10\"\n",
    "description = \"vancouver\"\n",
    "width = 60\n",
    "height = 42\n",
    "area_extent = ll_x, ll_y, ur_x, ur_y"
   ]
  },
  {
   "cell_type": "markdown",
   "id": "1f6609ac-c142-452a-a8cd-835ecb6715a1",
   "metadata": {},
   "source": [
    "### Make the destination area_def"
   ]
  },
  {
   "cell_type": "code",
   "execution_count": 11,
   "id": "ba68a993-cb07-4166-aeb7-0a646f0b5bc5",
   "metadata": {},
   "outputs": [],
   "source": [
    "vancouver_area_def = AreaDefinition(area_id, description, proj_id, projection,\n",
    "                          width, height, area_extent)"
   ]
  },
  {
   "cell_type": "code",
   "execution_count": 12,
   "id": "3a4c310c-b456-40aa-8639-f65f2aaf750a",
   "metadata": {},
   "outputs": [
    {
     "data": {
      "text/plain": [
       "Area ID: vancouver\n",
       "Description: vancouver\n",
       "Projection ID: UTM Zone10\n",
       "Projection: {'datum': 'WGS84', 'no_defs': 'None', 'proj': 'utm', 'type': 'crs', 'units': 'm', 'zone': '10'}\n",
       "Number of columns: 60\n",
       "Number of rows: 42\n",
       "Area extent: (480982.9526, 5427488.3457, 536314.2563, 5466485.0243)"
      ]
     },
     "execution_count": 12,
     "metadata": {},
     "output_type": "execute_result"
    }
   ],
   "source": [
    "vancouver_area_def"
   ]
  },
  {
   "cell_type": "markdown",
   "id": "a6540479-af0f-418f-a746-7f13e8c65149",
   "metadata": {},
   "source": [
    "## resample both images into the vancouver area_def"
   ]
  },
  {
   "cell_type": "code",
   "execution_count": 35,
   "id": "98be1d02-8e1d-4090-80b0-ab539796d37e",
   "metadata": {},
   "outputs": [],
   "source": [
    "from matplotlib import cm\n",
    "from matplotlib.colors import Normalize\n",
    "import copy\n",
    "cmap = plt.get_cmap(\"plasma\")\n",
    "vmin=300\n",
    "vmax = 330\n",
    "the_norm=Normalize(vmin=vmin,vmax=vmax,clip=False)\n",
    "over = 'w'\n",
    "under='k'\n",
    "missing='0.4'\n",
    "cmap=copy.copy(cmap)\n",
    "cmap.set_over(over)\n",
    "cmap.set_under(under)\n",
    "cmap.set_bad(missing)"
   ]
  },
  {
   "cell_type": "code",
   "execution_count": 36,
   "id": "ceacc4c4-ea81-4091-a2e6-4640f59acb2c",
   "metadata": {},
   "outputs": [
    {
     "data": {
      "image/png": "[encoded data removed]",
      "text/plain": [
       "<Figure size 640x480 with 2 Axes>"
      ]
     },
     "metadata": {},
     "output_type": "display_data"
    }
   ],
   "source": [
    "data1 = rio_image1.data.ravel()\n",
    "data2 = rio_image2.data.ravel()\n",
    "out1 = pyresample.kd_tree.resample_nearest(rio1_def,data1, vancouver_area_def,radius_of_influence=500,fill_value=0)\n",
    "out2 = pyresample.kd_tree.resample_nearest(rio2_def,data2, vancouver_area_def,radius_of_influence=500,fill_value=0)\n",
    "cs = plt.imshow(out1,cmap=cmap,norm=the_norm)\n",
    "fig = plt.gcf()\n",
    "fig.colorbar(cs, extend=\"both\");"
   ]
  },
  {
   "cell_type": "code",
   "execution_count": 37,
   "id": "f19a2ed3-f5fe-4bdb-87d0-7a540d749840",
   "metadata": {},
   "outputs": [
    {
     "data": {
      "image/png": "[encoded data removed]",
      "text/plain": [
       "<Figure size 640x480 with 2 Axes>"
      ]
     },
     "metadata": {},
     "output_type": "display_data"
    }
   ],
   "source": [
    "cs = plt.imshow(out2,cmap=cmap,norm=the_norm)\n",
    "fig = plt.gcf()\n",
    "fig.colorbar(cs, extend=\"both\");"
   ]
  },
  {
   "cell_type": "markdown",
   "id": "a141c4b4-75ff-4d28-9fec-3d6a5d6e9b1f",
   "metadata": {},
   "source": [
    "## Create the merged image"
   ]
  },
  {
   "cell_type": "code",
   "execution_count": 39,
   "id": "57359efb-a153-442b-8a03-0509d889a29e",
   "metadata": {},
   "outputs": [
    {
     "data": {
      "image/png": "[encoded data removed]",
      "text/plain": [
       "<Figure size 640x480 with 2 Axes>"
      ]
     },
     "metadata": {},
     "output_type": "display_data"
    }
   ],
   "source": [
    "merge = out1 + out2\n",
    "hit = merge ==0\n",
    "merge[hit]=np.nan\n",
    "cs = plt.imshow(merge,cmap=cmap,norm=the_norm)\n",
    "fig = plt.gcf()\n",
    "fig.colorbar(cs, extend=\"both\");"
   ]
  },
  {
   "cell_type": "code",
   "execution_count": 44,
   "id": "c983a1ef-d42e-4885-8757-cc32aaba38d5",
   "metadata": {},
   "outputs": [],
   "source": [
    "hit = merge > 500\n",
    "merge[hit]=np.nan"
   ]
  },
  {
   "cell_type": "code",
   "execution_count": 45,
   "id": "6c678a59-7813-4a48-b75e-892bab2251aa",
   "metadata": {},
   "outputs": [
    {
     "data": {
      "image/png": "[encoded data removed]",
      "text/plain": [
       "<Figure size 640x480 with 2 Axes>"
      ]
     },
     "metadata": {},
     "output_type": "display_data"
    }
   ],
   "source": [
    "cs = plt.imshow(merge,cmap=cmap,norm=the_norm)\n",
    "fig = plt.gcf()\n",
    "fig.colorbar(cs, extend=\"both\");"
   ]
  },
  {
   "cell_type": "code",
   "execution_count": null,
   "id": "dd1df35d-1c57-433d-a99a-c12e4137d333",
   "metadata": {},
   "outputs": [],
   "source": []
  }
 ],
 "metadata": {
  "jupytext": {
   "formats": "ipynb,md:myst"
  },
  "kernelspec": {
   "display_name": "Python 3 (ipykernel)",
   "language": "python",
   "name": "python3"
  },
  "language_info": {
   "codemirror_mode": {
    "name": "ipython",
    "version": 3
   },
   "file_extension": ".py",
   "mimetype": "text/x-python",
   "name": "python",
   "nbconvert_exporter": "python",
   "pygments_lexer": "ipython3",
   "version": "3.11.7"
  }
 },
 "nbformat": 4,
 "nbformat_minor": 5
}
