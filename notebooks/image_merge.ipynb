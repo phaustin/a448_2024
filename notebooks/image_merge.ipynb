{
 "cells": [
  {
   "cell_type": "markdown",
   "id": "184cba83-88e1-4c38-8926-6861469cbf5e",
   "metadata": {},
   "source": [
    "# merging modis granules"
   ]
  },
  {
   "cell_type": "code",
   "execution_count": 1,
   "id": "c5b5397f-2799-428f-add0-aca40d2bf25a",
   "metadata": {},
   "outputs": [],
   "source": [
    "import rioxarray\n",
    "import rioxarray.merge as riomerge\n",
    "import xarray\n",
    "from pathlib import Path\n",
    "import cartopy.crs as ccrs\n",
    "import cartopy\n",
    "from matplotlib import pyplot as plt\n",
    "import pycrs"
   ]
  },
  {
   "cell_type": "markdown",
   "id": "b35644c9-60f2-41a3-8f03-1604ab0db3cd",
   "metadata": {},
   "source": [
    "## open the images\n",
    "\n",
    "The default nasa projection is a [custom sinusoidal grid](https://pro.arcgis.com/en/pro-app/3.1/help/mapping/properties/sinusoidal.htm#:~:text=Sinusoidal%20is%20a%20pseudocylindric%20projection,central%20meridian%20and%20equally%20spaced.)"
   ]
  },
  {
   "cell_type": "code",
   "execution_count": 2,
   "id": "b0015edf-b30e-4c8f-bc61-49649426ad2c",
   "metadata": {},
   "outputs": [
    {
     "data": {
      "text/plain": [
       "'PROJCS[\"unnamed\",GEOGCS[\"Unknown datum based upon the custom spheroid\",DATUM[\"Not specified (based on custom spheroid)\",SPHEROID[\"Custom spheroid\",6371007.181,0]],PRIMEM[\"Greenwich\",0],UNIT[\"degree\",0.0174532925199433,AUTHORITY[\"EPSG\",\"9122\"]]],PROJECTION[\"Sinusoidal\"],PARAMETER[\"longitude_of_center\",0],PARAMETER[\"false_easting\",0],PARAMETER[\"false_northing\",0],UNIT[\"metre\",1,AUTHORITY[\"EPSG\",\"9001\"]],AXIS[\"Easting\",EAST],AXIS[\"Northing\",NORTH]]'"
      ]
     },
     "execution_count": 2,
     "metadata": {},
     "output_type": "execute_result"
    }
   ],
   "source": [
    "images = (Path.home() / \"repos/a448_2024/data\").glob(\"*tif\")\n",
    "images = list(images)\n",
    "image1, image2 = images\n",
    "rio_image1 = rioxarray.open_rasterio(image1, mask_and_scale = True)\n",
    "rio_image2 = rioxarray.open_rasterio(image2, mask_and_scale = True)\n",
    "wkt_text = rio_image1.spatial_ref.crs_wkt\n",
    "wkt_text"
   ]
  },
  {
   "cell_type": "code",
   "execution_count": 3,
   "id": "b317bb71-df3e-4299-97e4-bfad2fd0a75c",
   "metadata": {},
   "outputs": [
    {
     "data": {
      "text/plain": [
       "'+proj=sinu +a=6371007.181 +f=0.0 +pm=0 +lonc=0.0 +x_0=0.0 +y_0=0.0 +units=m +axis=enu +no_defs'"
      ]
     },
     "execution_count": 3,
     "metadata": {},
     "output_type": "execute_result"
    }
   ],
   "source": [
    "proj4_crs = pycrs.parse.from_esri_wkt(wkt_text).to_proj4()\n",
    "proj4_crs"
   ]
  },
  {
   "cell_type": "code",
   "execution_count": 4,
   "id": "fe98423d-101c-41e0-98ec-237954100b47",
   "metadata": {},
   "outputs": [
    {
     "data": {
      "text/plain": [
       "Affine(926.6254331391661, 0.0, -10007554.677899,\n",
       "       0.0, -926.625433139167, 5559752.598833)"
      ]
     },
     "execution_count": 4,
     "metadata": {},
     "output_type": "execute_result"
    }
   ],
   "source": [
    "rio_image1.rio.transform()"
   ]
  },
  {
   "cell_type": "code",
   "execution_count": 5,
   "id": "d9aa6936-8075-4b4e-bf05-197b1b990022",
   "metadata": {},
   "outputs": [
    {
     "data": {
      "text/plain": [
       "Affine(926.6254331383334, 0.0, -8895604.158132,\n",
       "       0.0, -926.625433139167, 5559752.598833)"
      ]
     },
     "execution_count": 5,
     "metadata": {},
     "output_type": "execute_result"
    }
   ],
   "source": [
    "rio_image2.rio.transform()"
   ]
  },
  {
   "cell_type": "code",
   "execution_count": 6,
   "id": "349c87a6-8da6-4033-90cc-1aec065f3ee6",
   "metadata": {},
   "outputs": [
    {
     "data": {
      "text/html": [
       "<div><svg style=\"position: absolute; width: 0; height: 0; overflow: hidden\">\n",
       "<defs>\n",
       "<symbol id=\"icon-database\" viewBox=\"0 0 32 32\">\n",
       "<path d=\"M16 0c-8.837 0-16 2.239-16 5v4c0 2.761 7.163 5 16 5s16-2.239 16-5v-4c0-2.761-7.163-5-16-5z\"></path>\n",
       "<path d=\"M16 17c-8.837 0-16-2.239-16-5v6c0 2.761 7.163 5 16 5s16-2.239 16-5v-6c0 2.761-7.163 5-16 5z\"></path>\n",
       "<path d=\"M16 26c-8.837 0-16-2.239-16-5v6c0 2.761 7.163 5 16 5s16-2.239 16-5v-6c0 2.761-7.163 5-16 5z\"></path>\n",
       "</symbol>\n",
       "<symbol id=\"icon-file-text2\" viewBox=\"0 0 32 32\">\n",
       "<path d=\"M28.681 7.159c-0.694-0.947-1.662-2.053-2.724-3.116s-2.169-2.030-3.116-2.724c-1.612-1.182-2.393-1.319-2.841-1.319h-15.5c-1.378 0-2.5 1.121-2.5 2.5v27c0 1.378 1.122 2.5 2.5 2.5h23c1.378 0 2.5-1.122 2.5-2.5v-19.5c0-0.448-0.137-1.23-1.319-2.841zM24.543 5.457c0.959 0.959 1.712 1.825 2.268 2.543h-4.811v-4.811c0.718 0.556 1.584 1.309 2.543 2.268zM28 29.5c0 0.271-0.229 0.5-0.5 0.5h-23c-0.271 0-0.5-0.229-0.5-0.5v-27c0-0.271 0.229-0.5 0.5-0.5 0 0 15.499-0 15.5 0v7c0 0.552 0.448 1 1 1h7v19.5z\"></path>\n",
       "<path d=\"M23 26h-14c-0.552 0-1-0.448-1-1s0.448-1 1-1h14c0.552 0 1 0.448 1 1s-0.448 1-1 1z\"></path>\n",
       "<path d=\"M23 22h-14c-0.552 0-1-0.448-1-1s0.448-1 1-1h14c0.552 0 1 0.448 1 1s-0.448 1-1 1z\"></path>\n",
       "<path d=\"M23 18h-14c-0.552 0-1-0.448-1-1s0.448-1 1-1h14c0.552 0 1 0.448 1 1s-0.448 1-1 1z\"></path>\n",
       "</symbol>\n",
       "</defs>\n",
       "</svg>\n",
       "<style>/* CSS stylesheet for displaying xarray objects in jupyterlab.\n",
       " *\n",
       " */\n",
       "\n",
       ":root {\n",
       "  --xr-font-color0: var(--jp-content-font-color0, rgba(0, 0, 0, 1));\n",
       "  --xr-font-color2: var(--jp-content-font-color2, rgba(0, 0, 0, 0.54));\n",
       "  --xr-font-color3: var(--jp-content-font-color3, rgba(0, 0, 0, 0.38));\n",
       "  --xr-border-color: var(--jp-border-color2, #e0e0e0);\n",
       "  --xr-disabled-color: var(--jp-layout-color3, #bdbdbd);\n",
       "  --xr-background-color: var(--jp-layout-color0, white);\n",
       "  --xr-background-color-row-even: var(--jp-layout-color1, white);\n",
       "  --xr-background-color-row-odd: var(--jp-layout-color2, #eeeeee);\n",
       "}\n",
       "\n",
       "html[theme=dark],\n",
       "body[data-theme=dark],\n",
       "body.vscode-dark {\n",
       "  --xr-font-color0: rgba(255, 255, 255, 1);\n",
       "  --xr-font-color2: rgba(255, 255, 255, 0.54);\n",
       "  --xr-font-color3: rgba(255, 255, 255, 0.38);\n",
       "  --xr-border-color: #1F1F1F;\n",
       "  --xr-disabled-color: #515151;\n",
       "  --xr-background-color: #111111;\n",
       "  --xr-background-color-row-even: #111111;\n",
       "  --xr-background-color-row-odd: #313131;\n",
       "}\n",
       "\n",
       ".xr-wrap {\n",
       "  display: block !important;\n",
       "  min-width: 300px;\n",
       "  max-width: 700px;\n",
       "}\n",
       "\n",
       ".xr-text-repr-fallback {\n",
       "  /* fallback to plain text repr when CSS is not injected (untrusted notebook) */\n",
       "  display: none;\n",
       "}\n",
       "\n",
       ".xr-header {\n",
       "  padding-top: 6px;\n",
       "  padding-bottom: 6px;\n",
       "  margin-bottom: 4px;\n",
       "  border-bottom: solid 1px var(--xr-border-color);\n",
       "}\n",
       "\n",
       ".xr-header > div,\n",
       ".xr-header > ul {\n",
       "  display: inline;\n",
       "  margin-top: 0;\n",
       "  margin-bottom: 0;\n",
       "}\n",
       "\n",
       ".xr-obj-type,\n",
       ".xr-array-name {\n",
       "  margin-left: 2px;\n",
       "  margin-right: 10px;\n",
       "}\n",
       "\n",
       ".xr-obj-type {\n",
       "  color: var(--xr-font-color2);\n",
       "}\n",
       "\n",
       ".xr-sections {\n",
       "  padding-left: 0 !important;\n",
       "  display: grid;\n",
       "  grid-template-columns: 150px auto auto 1fr 20px 20px;\n",
       "}\n",
       "\n",
       ".xr-section-item {\n",
       "  display: contents;\n",
       "}\n",
       "\n",
       ".xr-section-item input {\n",
       "  display: none;\n",
       "}\n",
       "\n",
       ".xr-section-item input + label {\n",
       "  color: var(--xr-disabled-color);\n",
       "}\n",
       "\n",
       ".xr-section-item input:enabled + label {\n",
       "  cursor: pointer;\n",
       "  color: var(--xr-font-color2);\n",
       "}\n",
       "\n",
       ".xr-section-item input:enabled + label:hover {\n",
       "  color: var(--xr-font-color0);\n",
       "}\n",
       "\n",
       ".xr-section-summary {\n",
       "  grid-column: 1;\n",
       "  color: var(--xr-font-color2);\n",
       "  font-weight: 500;\n",
       "}\n",
       "\n",
       ".xr-section-summary > span {\n",
       "  display: inline-block;\n",
       "  padding-left: 0.5em;\n",
       "}\n",
       "\n",
       ".xr-section-summary-in:disabled + label {\n",
       "  color: var(--xr-font-color2);\n",
       "}\n",
       "\n",
       ".xr-section-summary-in + label:before {\n",
       "  display: inline-block;\n",
       "  content: '►';\n",
       "  font-size: 11px;\n",
       "  width: 15px;\n",
       "  text-align: center;\n",
       "}\n",
       "\n",
       ".xr-section-summary-in:disabled + label:before {\n",
       "  color: var(--xr-disabled-color);\n",
       "}\n",
       "\n",
       ".xr-section-summary-in:checked + label:before {\n",
       "  content: '▼';\n",
       "}\n",
       "\n",
       ".xr-section-summary-in:checked + label > span {\n",
       "  display: none;\n",
       "}\n",
       "\n",
       ".xr-section-summary,\n",
       ".xr-section-inline-details {\n",
       "  padding-top: 4px;\n",
       "  padding-bottom: 4px;\n",
       "}\n",
       "\n",
       ".xr-section-inline-details {\n",
       "  grid-column: 2 / -1;\n",
       "}\n",
       "\n",
       ".xr-section-details {\n",
       "  display: none;\n",
       "  grid-column: 1 / -1;\n",
       "  margin-bottom: 5px;\n",
       "}\n",
       "\n",
       ".xr-section-summary-in:checked ~ .xr-section-details {\n",
       "  display: contents;\n",
       "}\n",
       "\n",
       ".xr-array-wrap {\n",
       "  grid-column: 1 / -1;\n",
       "  display: grid;\n",
       "  grid-template-columns: 20px auto;\n",
       "}\n",
       "\n",
       ".xr-array-wrap > label {\n",
       "  grid-column: 1;\n",
       "  vertical-align: top;\n",
       "}\n",
       "\n",
       ".xr-preview {\n",
       "  color: var(--xr-font-color3);\n",
       "}\n",
       "\n",
       ".xr-array-preview,\n",
       ".xr-array-data {\n",
       "  padding: 0 5px !important;\n",
       "  grid-column: 2;\n",
       "}\n",
       "\n",
       ".xr-array-data,\n",
       ".xr-array-in:checked ~ .xr-array-preview {\n",
       "  display: none;\n",
       "}\n",
       "\n",
       ".xr-array-in:checked ~ .xr-array-data,\n",
       ".xr-array-preview {\n",
       "  display: inline-block;\n",
       "}\n",
       "\n",
       ".xr-dim-list {\n",
       "  display: inline-block !important;\n",
       "  list-style: none;\n",
       "  padding: 0 !important;\n",
       "  margin: 0;\n",
       "}\n",
       "\n",
       ".xr-dim-list li {\n",
       "  display: inline-block;\n",
       "  padding: 0;\n",
       "  margin: 0;\n",
       "}\n",
       "\n",
       ".xr-dim-list:before {\n",
       "  content: '(';\n",
       "}\n",
       "\n",
       ".xr-dim-list:after {\n",
       "  content: ')';\n",
       "}\n",
       "\n",
       ".xr-dim-list li:not(:last-child):after {\n",
       "  content: ',';\n",
       "  padding-right: 5px;\n",
       "}\n",
       "\n",
       ".xr-has-index {\n",
       "  font-weight: bold;\n",
       "}\n",
       "\n",
       ".xr-var-list,\n",
       ".xr-var-item {\n",
       "  display: contents;\n",
       "}\n",
       "\n",
       ".xr-var-item > div,\n",
       ".xr-var-item label,\n",
       ".xr-var-item > .xr-var-name span {\n",
       "  background-color: var(--xr-background-color-row-even);\n",
       "  margin-bottom: 0;\n",
       "}\n",
       "\n",
       ".xr-var-item > .xr-var-name:hover span {\n",
       "  padding-right: 5px;\n",
       "}\n",
       "\n",
       ".xr-var-list > li:nth-child(odd) > div,\n",
       ".xr-var-list > li:nth-child(odd) > label,\n",
       ".xr-var-list > li:nth-child(odd) > .xr-var-name span {\n",
       "  background-color: var(--xr-background-color-row-odd);\n",
       "}\n",
       "\n",
       ".xr-var-name {\n",
       "  grid-column: 1;\n",
       "}\n",
       "\n",
       ".xr-var-dims {\n",
       "  grid-column: 2;\n",
       "}\n",
       "\n",
       ".xr-var-dtype {\n",
       "  grid-column: 3;\n",
       "  text-align: right;\n",
       "  color: var(--xr-font-color2);\n",
       "}\n",
       "\n",
       ".xr-var-preview {\n",
       "  grid-column: 4;\n",
       "}\n",
       "\n",
       ".xr-index-preview {\n",
       "  grid-column: 2 / 5;\n",
       "  color: var(--xr-font-color2);\n",
       "}\n",
       "\n",
       ".xr-var-name,\n",
       ".xr-var-dims,\n",
       ".xr-var-dtype,\n",
       ".xr-preview,\n",
       ".xr-attrs dt {\n",
       "  white-space: nowrap;\n",
       "  overflow: hidden;\n",
       "  text-overflow: ellipsis;\n",
       "  padding-right: 10px;\n",
       "}\n",
       "\n",
       ".xr-var-name:hover,\n",
       ".xr-var-dims:hover,\n",
       ".xr-var-dtype:hover,\n",
       ".xr-attrs dt:hover {\n",
       "  overflow: visible;\n",
       "  width: auto;\n",
       "  z-index: 1;\n",
       "}\n",
       "\n",
       ".xr-var-attrs,\n",
       ".xr-var-data,\n",
       ".xr-index-data {\n",
       "  display: none;\n",
       "  background-color: var(--xr-background-color) !important;\n",
       "  padding-bottom: 5px !important;\n",
       "}\n",
       "\n",
       ".xr-var-attrs-in:checked ~ .xr-var-attrs,\n",
       ".xr-var-data-in:checked ~ .xr-var-data,\n",
       ".xr-index-data-in:checked ~ .xr-index-data {\n",
       "  display: block;\n",
       "}\n",
       "\n",
       ".xr-var-data > table {\n",
       "  float: right;\n",
       "}\n",
       "\n",
       ".xr-var-name span,\n",
       ".xr-var-data,\n",
       ".xr-index-name div,\n",
       ".xr-index-data,\n",
       ".xr-attrs {\n",
       "  padding-left: 25px !important;\n",
       "}\n",
       "\n",
       ".xr-attrs,\n",
       ".xr-var-attrs,\n",
       ".xr-var-data,\n",
       ".xr-index-data {\n",
       "  grid-column: 1 / -1;\n",
       "}\n",
       "\n",
       "dl.xr-attrs {\n",
       "  padding: 0;\n",
       "  margin: 0;\n",
       "  display: grid;\n",
       "  grid-template-columns: 125px auto;\n",
       "}\n",
       "\n",
       ".xr-attrs dt,\n",
       ".xr-attrs dd {\n",
       "  padding: 0;\n",
       "  margin: 0;\n",
       "  float: left;\n",
       "  padding-right: 10px;\n",
       "  width: auto;\n",
       "}\n",
       "\n",
       ".xr-attrs dt {\n",
       "  font-weight: normal;\n",
       "  grid-column: 1;\n",
       "}\n",
       "\n",
       ".xr-attrs dt:hover span {\n",
       "  display: inline-block;\n",
       "  background: var(--xr-background-color);\n",
       "  padding-right: 10px;\n",
       "}\n",
       "\n",
       ".xr-attrs dd {\n",
       "  grid-column: 2;\n",
       "  white-space: pre-wrap;\n",
       "  word-break: break-all;\n",
       "}\n",
       "\n",
       ".xr-icon-database,\n",
       ".xr-icon-file-text2,\n",
       ".xr-no-icon {\n",
       "  display: inline-block;\n",
       "  vertical-align: middle;\n",
       "  width: 1em;\n",
       "  height: 1.5em !important;\n",
       "  stroke-width: 0;\n",
       "  stroke: currentColor;\n",
       "  fill: currentColor;\n",
       "}\n",
       "</style><pre class='xr-text-repr-fallback'>&lt;xarray.DataArray &#x27;spatial_ref&#x27; ()&gt;\n",
       "array(0)\n",
       "Coordinates:\n",
       "    spatial_ref  int64 0\n",
       "Attributes: (12/16)\n",
       "    crs_wkt:                         PROJCS[&quot;unnamed&quot;,GEOGCS[&quot;Unknown datum b...\n",
       "    semi_major_axis:                 6371007.181\n",
       "    semi_minor_axis:                 6371007.181\n",
       "    inverse_flattening:              0.0\n",
       "    reference_ellipsoid_name:        Custom spheroid\n",
       "    longitude_of_prime_meridian:     0.0\n",
       "    ...                              ...\n",
       "    grid_mapping_name:               sinusoidal\n",
       "    longitude_of_projection_origin:  0.0\n",
       "    false_easting:                   0.0\n",
       "    false_northing:                  0.0\n",
       "    spatial_ref:                     PROJCS[&quot;unnamed&quot;,GEOGCS[&quot;Unknown datum b...\n",
       "    GeoTransform:                    -10007554.677899 926.6254331391661 0.0 5...</pre><div class='xr-wrap' style='display:none'><div class='xr-header'><div class='xr-obj-type'>xarray.DataArray</div><div class='xr-array-name'>'spatial_ref'</div></div><ul class='xr-sections'><li class='xr-section-item'><div class='xr-array-wrap'><input id='section-3ee4acb9-e6a9-4fcb-8433-8719457276d2' class='xr-array-in' type='checkbox' checked><label for='section-3ee4acb9-e6a9-4fcb-8433-8719457276d2' title='Show/hide data repr'><svg class='icon xr-icon-database'><use xlink:href='#icon-database'></use></svg></label><div class='xr-array-preview xr-preview'><span>0</span></div><div class='xr-array-data'><pre>array(0)</pre></div></div></li><li class='xr-section-item'><input id='section-d410193e-63e7-4511-869c-8b3065613f8c' class='xr-section-summary-in' type='checkbox'  checked><label for='section-d410193e-63e7-4511-869c-8b3065613f8c' class='xr-section-summary' >Coordinates: <span>(1)</span></label><div class='xr-section-inline-details'></div><div class='xr-section-details'><ul class='xr-var-list'><li class='xr-var-item'><div class='xr-var-name'><span>spatial_ref</span></div><div class='xr-var-dims'>()</div><div class='xr-var-dtype'>int64</div><div class='xr-var-preview xr-preview'>0</div><input id='attrs-4d55a541-b994-4a00-a5ff-c6bdc187f428' class='xr-var-attrs-in' type='checkbox' ><label for='attrs-4d55a541-b994-4a00-a5ff-c6bdc187f428' title='Show/Hide attributes'><svg class='icon xr-icon-file-text2'><use xlink:href='#icon-file-text2'></use></svg></label><input id='data-1e5e92e6-7662-4334-ad46-26fd4bcd134a' class='xr-var-data-in' type='checkbox'><label for='data-1e5e92e6-7662-4334-ad46-26fd4bcd134a' title='Show/Hide data repr'><svg class='icon xr-icon-database'><use xlink:href='#icon-database'></use></svg></label><div class='xr-var-attrs'><dl class='xr-attrs'><dt><span>crs_wkt :</span></dt><dd>PROJCS[&quot;unnamed&quot;,GEOGCS[&quot;Unknown datum based upon the custom spheroid&quot;,DATUM[&quot;Not specified (based on custom spheroid)&quot;,SPHEROID[&quot;Custom spheroid&quot;,6371007.181,0]],PRIMEM[&quot;Greenwich&quot;,0],UNIT[&quot;degree&quot;,0.0174532925199433,AUTHORITY[&quot;EPSG&quot;,&quot;9122&quot;]]],PROJECTION[&quot;Sinusoidal&quot;],PARAMETER[&quot;longitude_of_center&quot;,0],PARAMETER[&quot;false_easting&quot;,0],PARAMETER[&quot;false_northing&quot;,0],UNIT[&quot;metre&quot;,1,AUTHORITY[&quot;EPSG&quot;,&quot;9001&quot;]],AXIS[&quot;Easting&quot;,EAST],AXIS[&quot;Northing&quot;,NORTH]]</dd><dt><span>semi_major_axis :</span></dt><dd>6371007.181</dd><dt><span>semi_minor_axis :</span></dt><dd>6371007.181</dd><dt><span>inverse_flattening :</span></dt><dd>0.0</dd><dt><span>reference_ellipsoid_name :</span></dt><dd>Custom spheroid</dd><dt><span>longitude_of_prime_meridian :</span></dt><dd>0.0</dd><dt><span>prime_meridian_name :</span></dt><dd>Greenwich</dd><dt><span>geographic_crs_name :</span></dt><dd>Unknown datum based upon the custom spheroid</dd><dt><span>horizontal_datum_name :</span></dt><dd>Not specified (based on custom spheroid)</dd><dt><span>projected_crs_name :</span></dt><dd>unnamed</dd><dt><span>grid_mapping_name :</span></dt><dd>sinusoidal</dd><dt><span>longitude_of_projection_origin :</span></dt><dd>0.0</dd><dt><span>false_easting :</span></dt><dd>0.0</dd><dt><span>false_northing :</span></dt><dd>0.0</dd><dt><span>spatial_ref :</span></dt><dd>PROJCS[&quot;unnamed&quot;,GEOGCS[&quot;Unknown datum based upon the custom spheroid&quot;,DATUM[&quot;Not specified (based on custom spheroid)&quot;,SPHEROID[&quot;Custom spheroid&quot;,6371007.181,0]],PRIMEM[&quot;Greenwich&quot;,0],UNIT[&quot;degree&quot;,0.0174532925199433,AUTHORITY[&quot;EPSG&quot;,&quot;9122&quot;]]],PROJECTION[&quot;Sinusoidal&quot;],PARAMETER[&quot;longitude_of_center&quot;,0],PARAMETER[&quot;false_easting&quot;,0],PARAMETER[&quot;false_northing&quot;,0],UNIT[&quot;metre&quot;,1,AUTHORITY[&quot;EPSG&quot;,&quot;9001&quot;]],AXIS[&quot;Easting&quot;,EAST],AXIS[&quot;Northing&quot;,NORTH]]</dd><dt><span>GeoTransform :</span></dt><dd>-10007554.677899 926.6254331391661 0.0 5559752.598833 0.0 -926.625433139167</dd></dl></div><div class='xr-var-data'><pre>array(0)</pre></div></li></ul></div></li><li class='xr-section-item'><input id='section-4a42dc10-3a5b-4279-8c5a-0a012156f08b' class='xr-section-summary-in' type='checkbox' disabled ><label for='section-4a42dc10-3a5b-4279-8c5a-0a012156f08b' class='xr-section-summary'  title='Expand/collapse section'>Indexes: <span>(0)</span></label><div class='xr-section-inline-details'></div><div class='xr-section-details'><ul class='xr-var-list'></ul></div></li><li class='xr-section-item'><input id='section-f09f7b6c-336a-4a94-b26e-e7646e943d7b' class='xr-section-summary-in' type='checkbox'  ><label for='section-f09f7b6c-336a-4a94-b26e-e7646e943d7b' class='xr-section-summary' >Attributes: <span>(16)</span></label><div class='xr-section-inline-details'></div><div class='xr-section-details'><dl class='xr-attrs'><dt><span>crs_wkt :</span></dt><dd>PROJCS[&quot;unnamed&quot;,GEOGCS[&quot;Unknown datum based upon the custom spheroid&quot;,DATUM[&quot;Not specified (based on custom spheroid)&quot;,SPHEROID[&quot;Custom spheroid&quot;,6371007.181,0]],PRIMEM[&quot;Greenwich&quot;,0],UNIT[&quot;degree&quot;,0.0174532925199433,AUTHORITY[&quot;EPSG&quot;,&quot;9122&quot;]]],PROJECTION[&quot;Sinusoidal&quot;],PARAMETER[&quot;longitude_of_center&quot;,0],PARAMETER[&quot;false_easting&quot;,0],PARAMETER[&quot;false_northing&quot;,0],UNIT[&quot;metre&quot;,1,AUTHORITY[&quot;EPSG&quot;,&quot;9001&quot;]],AXIS[&quot;Easting&quot;,EAST],AXIS[&quot;Northing&quot;,NORTH]]</dd><dt><span>semi_major_axis :</span></dt><dd>6371007.181</dd><dt><span>semi_minor_axis :</span></dt><dd>6371007.181</dd><dt><span>inverse_flattening :</span></dt><dd>0.0</dd><dt><span>reference_ellipsoid_name :</span></dt><dd>Custom spheroid</dd><dt><span>longitude_of_prime_meridian :</span></dt><dd>0.0</dd><dt><span>prime_meridian_name :</span></dt><dd>Greenwich</dd><dt><span>geographic_crs_name :</span></dt><dd>Unknown datum based upon the custom spheroid</dd><dt><span>horizontal_datum_name :</span></dt><dd>Not specified (based on custom spheroid)</dd><dt><span>projected_crs_name :</span></dt><dd>unnamed</dd><dt><span>grid_mapping_name :</span></dt><dd>sinusoidal</dd><dt><span>longitude_of_projection_origin :</span></dt><dd>0.0</dd><dt><span>false_easting :</span></dt><dd>0.0</dd><dt><span>false_northing :</span></dt><dd>0.0</dd><dt><span>spatial_ref :</span></dt><dd>PROJCS[&quot;unnamed&quot;,GEOGCS[&quot;Unknown datum based upon the custom spheroid&quot;,DATUM[&quot;Not specified (based on custom spheroid)&quot;,SPHEROID[&quot;Custom spheroid&quot;,6371007.181,0]],PRIMEM[&quot;Greenwich&quot;,0],UNIT[&quot;degree&quot;,0.0174532925199433,AUTHORITY[&quot;EPSG&quot;,&quot;9122&quot;]]],PROJECTION[&quot;Sinusoidal&quot;],PARAMETER[&quot;longitude_of_center&quot;,0],PARAMETER[&quot;false_easting&quot;,0],PARAMETER[&quot;false_northing&quot;,0],UNIT[&quot;metre&quot;,1,AUTHORITY[&quot;EPSG&quot;,&quot;9001&quot;]],AXIS[&quot;Easting&quot;,EAST],AXIS[&quot;Northing&quot;,NORTH]]</dd><dt><span>GeoTransform :</span></dt><dd>-10007554.677899 926.6254331391661 0.0 5559752.598833 0.0 -926.625433139167</dd></dl></div></li></ul></div></div>"
      ],
      "text/plain": [
       "<xarray.DataArray 'spatial_ref' ()>\n",
       "array(0)\n",
       "Coordinates:\n",
       "    spatial_ref  int64 0\n",
       "Attributes: (12/16)\n",
       "    crs_wkt:                         PROJCS[\"unnamed\",GEOGCS[\"Unknown datum b...\n",
       "    semi_major_axis:                 6371007.181\n",
       "    semi_minor_axis:                 6371007.181\n",
       "    inverse_flattening:              0.0\n",
       "    reference_ellipsoid_name:        Custom spheroid\n",
       "    longitude_of_prime_meridian:     0.0\n",
       "    ...                              ...\n",
       "    grid_mapping_name:               sinusoidal\n",
       "    longitude_of_projection_origin:  0.0\n",
       "    false_easting:                   0.0\n",
       "    false_northing:                  0.0\n",
       "    spatial_ref:                     PROJCS[\"unnamed\",GEOGCS[\"Unknown datum b...\n",
       "    GeoTransform:                    -10007554.677899 926.6254331391661 0.0 5..."
      ]
     },
     "execution_count": 6,
     "metadata": {},
     "output_type": "execute_result"
    }
   ],
   "source": [
    "rio_image1.spatial_ref"
   ]
  },
  {
   "cell_type": "markdown",
   "id": "185eeaa9-baf4-4b0c-baf1-2568c6ca15f4",
   "metadata": {},
   "source": [
    "## squeeze out the band dimension"
   ]
  },
  {
   "cell_type": "code",
   "execution_count": 7,
   "id": "d20aab61-f5ea-4286-9736-1677a9d22703",
   "metadata": {},
   "outputs": [
    {
     "data": {
      "text/plain": [
       "((1, 1200, 1200), (1, 1200, 1200))"
      ]
     },
     "execution_count": 7,
     "metadata": {},
     "output_type": "execute_result"
    }
   ],
   "source": [
    "rio_image1.shape, rio_image2.shape"
   ]
  },
  {
   "cell_type": "markdown",
   "id": "ceb2c88a-d972-46d1-a95a-8e2fe3997aea",
   "metadata": {},
   "source": [
    "[test](https://spatialreference.org/ref/epsg/3157)"
   ]
  },
  {
   "cell_type": "code",
   "execution_count": 8,
   "id": "4c9d777e-99fd-461c-89c9-a303b600acb4",
   "metadata": {},
   "outputs": [],
   "source": [
    "image1 = rio_image1.squeeze()\n",
    "image2 = rio_image2.squeeze()"
   ]
  },
  {
   "cell_type": "markdown",
   "id": "45cf81b6-62c0-41e6-9c6c-3040dd3a3571",
   "metadata": {},
   "source": [
    "## reproject onto UTM Zone 10N\n",
    "\n",
    "Reference [EPSG:3157](https://spatialreference.org/ref/epsg/3157) "
   ]
  },
  {
   "cell_type": "code",
   "execution_count": 9,
   "id": "5529887e-6464-4d3d-90b3-162b7f3a20f4",
   "metadata": {},
   "outputs": [
    {
     "data": {
      "text/plain": [
       "'PROJCS[\"NAD83(CSRS) / UTM zone 10N\",GEOGCS[\"NAD83(CSRS)\",DATUM[\"NAD83_Canadian_Spatial_Reference_System\",SPHEROID[\"GRS 1980\",6378137,298.257222101,AUTHORITY[\"EPSG\",\"7019\"]],AUTHORITY[\"EPSG\",\"6140\"]],PRIMEM[\"Greenwich\",0,AUTHORITY[\"EPSG\",\"8901\"]],UNIT[\"degree\",0.0174532925199433,AUTHORITY[\"EPSG\",\"9122\"]],AUTHORITY[\"EPSG\",\"4617\"]],PROJECTION[\"Transverse_Mercator\"],PARAMETER[\"latitude_of_origin\",0],PARAMETER[\"central_meridian\",-123],PARAMETER[\"scale_factor\",0.9996],PARAMETER[\"false_easting\",500000],PARAMETER[\"false_northing\",0],UNIT[\"metre\",1,AUTHORITY[\"EPSG\",\"9001\"]],AXIS[\"Easting\",EAST],AXIS[\"Northing\",NORTH],AUTHORITY[\"EPSG\",\"3157\"]]'"
      ]
     },
     "execution_count": 9,
     "metadata": {},
     "output_type": "execute_result"
    }
   ],
   "source": [
    "code = \"EPSG:3157\"\n",
    "image1 = image1.rio.reproject(code)\n",
    "image2 = image2.rio.reproject(code)\n",
    "image1.spatial_ref.crs_wkt"
   ]
  },
  {
   "cell_type": "markdown",
   "id": "919c0a74-b6db-4cd6-af30-342f371c4140",
   "metadata": {},
   "source": [
    "## Plot images with cartopy"
   ]
  },
  {
   "cell_type": "code",
   "execution_count": 10,
   "id": "a6465280-54b2-4b35-b580-736f582f7a72",
   "metadata": {},
   "outputs": [],
   "source": [
    "code = \"3157\"\n",
    "projection = ccrs.epsg(code)\n",
    "geodetic = ccrs.Geodetic()"
   ]
  },
  {
   "cell_type": "code",
   "execution_count": 11,
   "id": "bc2c811b-7c58-4df0-b224-8754d50995c8",
   "metadata": {},
   "outputs": [
    {
     "data": {
      "text/plain": [
       "(Affine(1771.902376542193, 0.0, -716077.9493052305,\n",
       "        0.0, -1771.902376542193, 5678843.194819922),\n",
       " Affine(1700.194277933813, 0.0, 395518.0762863428,\n",
       "        0.0, -1700.194277933813, 5634582.799151534))"
      ]
     },
     "execution_count": 11,
     "metadata": {},
     "output_type": "execute_result"
    }
   ],
   "source": [
    "image1.rio.transform(), image2.rio.transform()"
   ]
  },
  {
   "cell_type": "markdown",
   "id": "01171e9e-63bc-4880-a369-aba8217c8b06",
   "metadata": {},
   "source": [
    "bounds are "
   ]
  },
  {
   "cell_type": "code",
   "execution_count": 12,
   "id": "60e06567-5010-4967-bea7-1e3ac2739a78",
   "metadata": {},
   "outputs": [
    {
     "data": {
      "text/plain": [
       "((-716077.9493052305,\n",
       "  4442055.335993472,\n",
       "  2088843.5127610613,\n",
       "  5678843.194819922),\n",
       " (395518.0762863428, 4595764.095333974, 3217840.5776564726, 5634582.799151534))"
      ]
     },
     "execution_count": 12,
     "metadata": {},
     "output_type": "execute_result"
    }
   ],
   "source": [
    "image1.rio.bounds(), image2.rio.bounds()"
   ]
  },
  {
   "cell_type": "markdown",
   "id": "a587d7ff-7e81-479d-8c45-2af45587ffe1",
   "metadata": {},
   "source": [
    "## Get the coordinates for the bounding box\n",
    "\n",
    "The upper left coordinates are 49.35N and 123.26W, and the lower right coordinates are 49.00N and 122.50W."
   ]
  },
  {
   "cell_type": "code",
   "execution_count": 13,
   "id": "aeb4c22a-4a50-428c-9740-4226b9660ca5",
   "metadata": {},
   "outputs": [
    {
     "data": {
      "text/plain": [
       "(481117.6785458467, 536572.314722576, 5466396.67943242, 5427575.583354357)"
      ]
     },
     "execution_count": 13,
     "metadata": {},
     "output_type": "execute_result"
    }
   ],
   "source": [
    "ul_lat, ul_lon = (49.35, -123.26)\n",
    "lr_lat, lr_lon = (49, -122.50)\n",
    "#ul_lat, ul_lon = (50, -126)\n",
    "#lr_lat, lr_lon = (40, -121)\n",
    "ul_x, ul_y  = projection.transform_point(ul_lon,ul_lat,geodetic)\n",
    "lr_x, lr_y = projection.transform_point(lr_lon, lr_lat, geodetic)\n",
    "extent = (ul_x,lr_x,ul_y,lr_y)\n",
    "extent         "
   ]
  },
  {
   "cell_type": "code",
   "execution_count": 14,
   "id": "7ce806d4-e235-46a9-bb83-027a7bbc25b8",
   "metadata": {},
   "outputs": [
    {
     "data": {
      "image/png": "[encoded data removed]",
      "text/plain": [
       "<Figure size 1000x800 with 2 Axes>"
      ]
     },
     "metadata": {},
     "output_type": "display_data"
    }
   ],
   "source": [
    "kw_dict = dict(projection=projection)\n",
    "fig, ax1 = plt.subplots(1,1,figsize=(10,8),subplot_kw = kw_dict)\n",
    "image1.plot.imshow(ax=ax1,origin=\"upper\")\n",
    "ax1.set_extent(extent, crs = projection)\n",
    "ax1.set_title('image 1');"
   ]
  },
  {
   "cell_type": "code",
   "execution_count": 15,
   "id": "e01e8f81-11aa-400f-89b0-0385b975c018",
   "metadata": {},
   "outputs": [
    {
     "data": {
      "image/png": "[encoded data removed]",
      "text/plain": [
       "<Figure size 1000x800 with 2 Axes>"
      ]
     },
     "metadata": {},
     "output_type": "display_data"
    }
   ],
   "source": [
    "fig, ax2 = plt.subplots(1,1,figsize=(10,8),subplot_kw = kw_dict)\n",
    "image2.plot.imshow(ax=ax2)\n",
    "ax2.set_extent(extent, crs = projection)\n",
    "ax2.set_title('image 2');"
   ]
  },
  {
   "cell_type": "markdown",
   "id": "09132b04-6aac-443d-901d-e46a9fc1ecb6",
   "metadata": {},
   "source": [
    "## find ul and lr corners of image 1\n",
    "\n",
    "Use the [affine transform](https://www.perrygeo.com/python-affine-transforms.html)"
   ]
  },
  {
   "cell_type": "code",
   "execution_count": 16,
   "id": "d3e07a3f-4fa2-4575-a5b6-28db6b760522",
   "metadata": {},
   "outputs": [
    {
     "data": {
      "text/plain": [
       "((698, 1583), (611, 1660))"
      ]
     },
     "execution_count": 16,
     "metadata": {},
     "output_type": "execute_result"
    }
   ],
   "source": [
    "image1.shape, image2.shape"
   ]
  },
  {
   "cell_type": "code",
   "execution_count": 17,
   "id": "db590b8a-06c0-45a0-b540-a707a091af5c",
   "metadata": {},
   "outputs": [
    {
     "data": {
      "text/plain": [
       "(675, 119)"
      ]
     },
     "execution_count": 17,
     "metadata": {},
     "output_type": "execute_result"
    }
   ],
   "source": [
    "ul_col, ul_row = ~image1.rio.transform()*(ul_x,ul_y)\n",
    "ul_col,ul_row = int(ul_col), int(ul_row)\n",
    "ul_col,ul_row"
   ]
  },
  {
   "cell_type": "code",
   "execution_count": 18,
   "id": "8ee772a8-64d0-4645-a362-6992d00c901b",
   "metadata": {},
   "outputs": [
    {
     "name": "stdout",
     "output_type": "stream",
     "text": [
      "706.9521891337552 141.80669025113275\n"
     ]
    },
    {
     "data": {
      "text/plain": [
       "(706, 141)"
      ]
     },
     "execution_count": 18,
     "metadata": {},
     "output_type": "execute_result"
    }
   ],
   "source": [
    "lr_col, lr_row = ~image1.rio.transform()*(lr_x, lr_y)\n",
    "print(lr_col,lr_row)\n",
    "lr_col,lr_row = int(lr_col), int(lr_row)\n",
    "lr_col, lr_row"
   ]
  },
  {
   "cell_type": "code",
   "execution_count": 19,
   "id": "3fa0edfd-f03d-463d-a68d-37314acddeda",
   "metadata": {},
   "outputs": [
    {
     "data": {
      "text/plain": [
       "(22, 31)"
      ]
     },
     "execution_count": 19,
     "metadata": {},
     "output_type": "execute_result"
    }
   ],
   "source": [
    "image1 = image1[ul_row:lr_row,ul_col:lr_col]\n",
    "image1.shape"
   ]
  },
  {
   "cell_type": "code",
   "execution_count": 20,
   "id": "487c6488-682f-4963-a8a4-dc94a3bb46ce",
   "metadata": {},
   "outputs": [
    {
     "data": {
      "image/png": "[encoded data removed]",
      "text/plain": [
       "<Figure size 1000x800 with 2 Axes>"
      ]
     },
     "metadata": {},
     "output_type": "display_data"
    }
   ],
   "source": [
    "fig, ax2 = plt.subplots(1,1,figsize=(10,8),subplot_kw = kw_dict)\n",
    "image1.plot.imshow(ax=ax2)\n",
    "ax2.set_extent(extent, crs = projection)\n",
    "ax2.set_title('image 1');"
   ]
  },
  {
   "cell_type": "markdown",
   "id": "daa7ec9e-9519-4424-ad88-8567b1ae8056",
   "metadata": {},
   "source": [
    "## now do the same for image 2"
   ]
  },
  {
   "cell_type": "code",
   "execution_count": 21,
   "id": "477b8a48-f29c-48e9-ae4f-7570a20de6cb",
   "metadata": {},
   "outputs": [
    {
     "data": {
      "text/plain": [
       "(50, 98)"
      ]
     },
     "execution_count": 21,
     "metadata": {},
     "output_type": "execute_result"
    }
   ],
   "source": [
    "ul_col, ul_row = ~image2.rio.transform()*(ul_x,ul_y)\n",
    "ul_col,ul_row = int(ul_col), int(ul_row)\n",
    "ul_col,ul_row"
   ]
  },
  {
   "cell_type": "code",
   "execution_count": 22,
   "id": "109260d4-4f47-4322-821b-2be8edc6d658",
   "metadata": {},
   "outputs": [
    {
     "data": {
      "text/plain": [
       "(82, 121)"
      ]
     },
     "execution_count": 22,
     "metadata": {},
     "output_type": "execute_result"
    }
   ],
   "source": [
    "lr_col, lr_row = ~image2.rio.transform()*(lr_x, lr_y)\n",
    "lr_col,lr_row = int(lr_col), int(lr_row)\n",
    "lr_col, lr_row"
   ]
  },
  {
   "cell_type": "code",
   "execution_count": 23,
   "id": "fa8a9cef-f7a9-4e28-84b3-941eb50a0cd5",
   "metadata": {},
   "outputs": [
    {
     "data": {
      "text/plain": [
       "(23, 32)"
      ]
     },
     "execution_count": 23,
     "metadata": {},
     "output_type": "execute_result"
    }
   ],
   "source": [
    "image2 = image2[ul_row:lr_row,ul_col:lr_col]\n",
    "image2.shape"
   ]
  },
  {
   "cell_type": "code",
   "execution_count": 24,
   "id": "5a3892a6-2f6b-49b8-841e-682c0307c7a8",
   "metadata": {},
   "outputs": [
    {
     "data": {
      "image/png": "[encoded data removed]",
      "text/plain": [
       "<Figure size 1000x800 with 2 Axes>"
      ]
     },
     "metadata": {},
     "output_type": "display_data"
    }
   ],
   "source": [
    "fig, ax2 = plt.subplots(1,1,figsize=(10,8),subplot_kw = kw_dict)\n",
    "image2.plot.imshow(ax=ax2)\n",
    "ax2.set_extent(extent, crs = projection)\n",
    "ax2.set_title('image 2');"
   ]
  },
  {
   "cell_type": "code",
   "execution_count": null,
   "id": "752003de-d9cd-4a3f-bce7-cabc0a79c64d",
   "metadata": {},
   "outputs": [],
   "source": []
  }
 ],
 "metadata": {
  "jupytext": {
   "formats": "ipynb,md:myst"
  },
  "kernelspec": {
   "display_name": "Python 3 (ipykernel)",
   "language": "python",
   "name": "python3"
  },
  "language_info": {
   "codemirror_mode": {
    "name": "ipython",
    "version": 3
   },
   "file_extension": ".py",
   "mimetype": "text/x-python",
   "name": "python",
   "nbconvert_exporter": "python",
   "pygments_lexer": "ipython3",
   "version": "3.11.7"
  }
 },
 "nbformat": 4,
 "nbformat_minor": 5
}
